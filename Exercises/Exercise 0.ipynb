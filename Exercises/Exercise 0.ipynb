{
 "cells": [
  {
   "cell_type": "markdown",
   "source": [
    "Count with Python\n",
    "\n",
    "These are introductory exercises in Python for fundamental mathematics. It is important to both know mathematics as well as Python in order to understand machine learning concepts. Also a focus here is to use Python as a tool for solving mathematical problems.\n",
    "Remember to use variables in your computations\n",
    "\n",
    "1. Pythagorean theorem (*)\n",
    "  a)   A right angled triangle has the catheti: a = 3 and b = 4 length units. Compute the hypothenuse of the triangle. (*)"
   ],
   "metadata": {}
  },
  {
   "cell_type": "code",
   "execution_count": 8,
   "source": [
    "a = 3\n",
    "b = 4\n",
    "c = (pow(a,2)+pow(b,2))**0.5\n",
    "print(c)"
   ],
   "outputs": [
    {
     "output_type": "stream",
     "name": "stdout",
     "text": [
      "5.0\n"
     ]
    }
   ],
   "metadata": {}
  },
  {
   "cell_type": "markdown",
   "source": [
    "  b)   A right angled triangle has hypothenuse c = 7.0 and a cathetus a = 5.0 length units. Compute the other cathetus and round to one decimal."
   ],
   "metadata": {}
  },
  {
   "cell_type": "code",
   "execution_count": 10,
   "source": [
    "c = 7 \n",
    "a = 5\n",
    "b = (pow(c,2)-pow(a,2))**0.5\n",
    "\n",
    "print(b)"
   ],
   "outputs": [
    {
     "output_type": "stream",
     "name": "stdout",
     "text": [
      "4.898979485566356\n"
     ]
    }
   ],
   "metadata": {}
  },
  {
   "cell_type": "markdown",
   "source": [
    "2. Classification accuracy\n",
    "A machine learning algorithm has been trained to predict whether or not it would rain the next day. Out of 365 predictions, it got 300 correct, compute the accuracy of this model."
   ],
   "metadata": {}
  },
  {
   "cell_type": "code",
   "execution_count": 11,
   "source": [
    "daysOfTheYear = 365\n",
    "accurateDays = 300\n",
    "accuracy = 100*accurateDays/daysOfTheYear\n",
    "print(accuracy)"
   ],
   "outputs": [
    {
     "output_type": "stream",
     "name": "stdout",
     "text": [
      "82.1917808219178\n"
     ]
    }
   ],
   "metadata": {}
  },
  {
   "cell_type": "markdown",
   "source": [
    "4. Classification accuracy (*)\n",
    "A machine learning model has been trained to detect fire. Here is the result of its predictions:\n",
    "\n",
    "Calculated the accuracy using the following formula:\n",
    "$\\text{accuracy} = \\frac{TP+TN}{TP+TN+FP+FN}$\n",
    "Is this a good model?"
   ],
   "metadata": {}
  },
  {
   "cell_type": "code",
   "execution_count": 14,
   "source": [
    "TP = 2\n",
    "FN = 2\n",
    "FP = 11\n",
    "TN = 985\n",
    "accuracy = (100*(TP+TN))/(TP+TN+FP+FN)\n",
    "\n",
    "if (accuracy>95):\n",
    "    print('The accuracy is',accuracy,'\\b% and this is a good model')\n",
    "else :\n",
    "    print('The accuracy is',accuracy,'\\b% and this is a bad model')"
   ],
   "outputs": [
    {
     "output_type": "stream",
     "name": "stdout",
     "text": [
      "The accuracy is 98.7% and this is a good model\n"
     ]
    }
   ],
   "metadata": {}
  },
  {
   "cell_type": "markdown",
   "source": [
    "4. Line (*)\n",
    "Compute the slope $k$ and the constant term $m$ of this line using the points $A: (4,4)$ and $B: (0,1)$."
   ],
   "metadata": {}
  },
  {
   "cell_type": "code",
   "execution_count": 17,
   "source": [
    "A=(4,4)\n",
    "B=(0,1)\n",
    "k=float(A[1]-B[1])/float(A[0]-B[0])\n",
    "print('The slope k of this line is equal to',k)\n",
    "\n",
    "m=round((A[1])/k - (A[0]),2)\n",
    "print('The constant term m of this line is equal to ',m)"
   ],
   "outputs": [
    {
     "output_type": "stream",
     "name": "stdout",
     "text": [
      "The slope k of this line is equal to 0.75\n",
      "The constant term m of this line is equal to  1.33\n"
     ]
    }
   ],
   "metadata": {}
  },
  {
   "cell_type": "markdown",
   "source": [
    "5. Euclidean distance (*)\n",
    "The Euclideam distance between the points $P_1$ and $P_2$ is the length of a line between them. Let $P_1: (3,5)$ and $P_2: (-2,4)$ and compute the distance between them."
   ],
   "metadata": {}
  },
  {
   "cell_type": "code",
   "execution_count": 23,
   "source": [
    "P1 = (3,5)\n",
    "P2 = (-2,4)\n",
    "\n",
    "distance = round(((P1[0]-P2[0])**2 + (P1[1]-P2[1])**2)**0.5,2)\n",
    "print(distance)\n"
   ],
   "outputs": [
    {
     "output_type": "stream",
     "name": "stdout",
     "text": [
      "5.1\n"
     ]
    }
   ],
   "metadata": {}
  },
  {
   "cell_type": "markdown",
   "source": [
    "6. Euclidean distance in 3D (**)\n",
    "Calculate the distance between the points $P_1: (2,1,4)$ and $P_2: (3,1,0)$"
   ],
   "metadata": {}
  },
  {
   "cell_type": "code",
   "execution_count": 24,
   "source": [
    "P1=(2,1,4)\n",
    "P2=(3,1,0)\n",
    "\n",
    "distance = round(((P1[0]-P2[0])**2 + (P1[1]-P2[1])**2 + (P1[2]-P2[2])**2)**0.5,2)\n",
    "print(distance)"
   ],
   "outputs": [
    {
     "output_type": "stream",
     "name": "stdout",
     "text": [
      "4.12\n"
     ]
    }
   ],
   "metadata": {}
  }
 ],
 "metadata": {
  "orig_nbformat": 4,
  "language_info": {
   "name": "python",
   "version": "3.8.2",
   "mimetype": "text/x-python",
   "codemirror_mode": {
    "name": "ipython",
    "version": 3
   },
   "pygments_lexer": "ipython3",
   "nbconvert_exporter": "python",
   "file_extension": ".py"
  },
  "kernelspec": {
   "name": "python3",
   "display_name": "Python 3.8.2 64-bit ('python-programming-SAMI-FATMI-twlN9kEV': pipenv)"
  },
  "interpreter": {
   "hash": "e8c0f5da3a3a620c9e1b027d387145a2dbb6c76352a80070026223519564da83"
  }
 },
 "nbformat": 4,
 "nbformat_minor": 2
}