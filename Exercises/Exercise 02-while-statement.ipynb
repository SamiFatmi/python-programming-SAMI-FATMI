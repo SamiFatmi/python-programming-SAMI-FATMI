{
 "cells": [
  {
   "cell_type": "markdown",
   "source": [
    "1. Count numbers (*)\n",
    "Use a while statement to count from -10 to 10 with one increment."
   ],
   "metadata": {}
  },
  {
   "cell_type": "code",
   "execution_count": 3,
   "source": [
    "x=-10\n",
    "while(x<=10):\n",
    "    print(x)\n",
    "    x+=1\n",
    "\n"
   ],
   "outputs": [
    {
     "output_type": "stream",
     "name": "stdout",
     "text": [
      "-10\n",
      "-9\n",
      "-8\n",
      "-7\n",
      "-6\n",
      "-5\n",
      "-4\n",
      "-3\n",
      "-2\n",
      "-1\n",
      "0\n",
      "1\n",
      "2\n",
      "3\n",
      "4\n",
      "5\n",
      "6\n",
      "7\n",
      "8\n",
      "9\n",
      "10\n"
     ]
    }
   ],
   "metadata": {}
  },
  {
   "cell_type": "markdown",
   "source": [
    "2. Arithmetic sum (*)\n",
    "Use a while statement to compute the following sums:\n",
    "  a)   $\\text{sum} = 1 + 2 + \\ldots + 99+ 100$\n",
    "  b)   $\\text{sum} = 1 + 3 + 5 + \\ldots + 97 + 99$"
   ],
   "metadata": {}
  },
  {
   "cell_type": "code",
   "execution_count": 5,
   "source": [
    "x=0\n",
    "sum=0\n",
    "while (x<=100):\n",
    "    sum=sum+x\n",
    "    x+=1\n",
    "\n",
    "print(\"a) the sum = \",sum)\n",
    "\n",
    "x=0\n",
    "sum=0\n",
    "while(x<=100):\n",
    "    if(x%2!=0):\n",
    "        sum+=x\n",
    "    x+=1\n",
    "\n",
    "print(\"b) the sum = \",sum)\n",
    "\n",
    "\n"
   ],
   "outputs": [
    {
     "output_type": "stream",
     "name": "stdout",
     "text": [
      "a) the sum =  5050\n",
      "b) the sum =  2500\n"
     ]
    }
   ],
   "metadata": {}
  },
  {
   "cell_type": "markdown",
   "source": [
    "3. Guess number game (*)¶\n",
    "  a)   Create a guessing number game following this flow chart:"
   ],
   "metadata": {}
  },
  {
   "cell_type": "code",
   "execution_count": 6,
   "source": [
    "number = 97\n",
    "guess= int(input(\"Please enter your guess\"))\n",
    "nguesses = 0\n",
    "\n",
    "while (guess != number):\n",
    "    nguesses +=1\n",
    "    if (guess<number):\n",
    "        guess=int(input(\"Please enter a HIGHER number\"))\n",
    "    else :\n",
    "        guess=int(input(\"Please enter a LOWER number\"))\n",
    "\n",
    "\n",
    "print(\"Congratulations !!!\")\n",
    "    "
   ],
   "outputs": [
    {
     "output_type": "stream",
     "name": "stdout",
     "text": [
      "Congratulations !!!\n"
     ]
    }
   ],
   "metadata": {}
  },
  {
   "cell_type": "markdown",
   "source": [
    " b)   Make an algorithm to automatically guess the correct number. Can you optimize to get as few guesses as possible? (**)"
   ],
   "metadata": {}
  },
  {
   "cell_type": "code",
   "execution_count": 25,
   "source": [
    "import random\n",
    "number = int(randint(0,100)) \n",
    "print(number)\n",
    "max = 100\n",
    "min = 1\n",
    "nguesses = 1\n",
    "\n",
    "guess = round((max + min)/2,0)\n",
    "print(\"My guess is \",guess)\n",
    "\n",
    "while (guess != number):\n",
    "    nguesses+=1\n",
    "    if(guess<number):\n",
    "        min=guess\n",
    "        print(\"Wrong! I need a higher number\")\n",
    "    else:\n",
    "        max=guess\n",
    "        print(\"Wrong! I need a lower number\")\n",
    "    guess = round((max + min)/2,0)\n",
    "    print(\"My new guess is \",guess)\n",
    "\n",
    "\n",
    "\n",
    "print(\"The number is \",guess,\" and it took \",nguesses,\" guesses to find it.\")\n",
    "\n",
    "\n",
    "\n",
    "\n",
    "\n",
    "\n"
   ],
   "outputs": [
    {
     "output_type": "stream",
     "name": "stdout",
     "text": [
      "40\n",
      "My guess is  50.0\n",
      "Wrong! I need a lower number\n",
      "My new guess is  26.0\n",
      "Wrong! I need a higher number\n",
      "My new guess is  38.0\n",
      "Wrong! I need a higher number\n",
      "My new guess is  44.0\n",
      "Wrong! I need a lower number\n",
      "My new guess is  41.0\n",
      "Wrong! I need a lower number\n",
      "My new guess is  40.0\n",
      "The number is  40.0  and it took  6  guesses to find it.\n"
     ]
    }
   ],
   "metadata": {}
  },
  {
   "cell_type": "markdown",
   "source": [
    "4. Multiplication game (*)\n",
    "  a)   Create a multiplication game following this flow chart:"
   ],
   "metadata": {}
  },
  {
   "cell_type": "code",
   "execution_count": 38,
   "source": [
    "import random as rnd\n",
    "again=\"y\"\n",
    "while ( again==\"y\" ):\n",
    "    x=rnd.randint(0,10)\n",
    "    y=rnd.randint(0,10)\n",
    "\n",
    "    \n",
    "    answer = int(input(f\"What is {x} + {y} ?\"))\n",
    "\n",
    "    while (answer!=(x+y)):\n",
    "        answer=int(input(\"Try again\"))\n",
    "\n",
    "    again = \"\"\n",
    "    while(again!=\"y\" and again!=\"n\"):\n",
    "        again = input(\"Nice! Wanna play again ?(y/n)\")"
   ],
   "outputs": [],
   "metadata": {}
  },
  {
   "cell_type": "markdown",
   "source": [
    "b) Add a menu for choosing difficulty level of the game"
   ],
   "metadata": {}
  },
  {
   "cell_type": "code",
   "execution_count": 44,
   "source": [
    "import random as rnd\n",
    "again=\"y\"\n",
    "print(\"1. Very Easy \\n2. Easy \\n3. Medium \\n4. Hard \\n5. Insane \")\n",
    "while ( again==\"y\" ):\n",
    "    diff = float(input(\"Choose a difficulty from 1 to 5\"))\n",
    "    if(diff<1 or diff>5):\n",
    "        diff = float(input(\"Please choose a valid number for the difficulty\"))\n",
    "    elif (diff == 1 ):\n",
    "        max = 10\n",
    "    elif (diff == 2):\n",
    "        max = 20\n",
    "    elif (diff == 3):\n",
    "        max = 50\n",
    "    elif (diff == 4 ):\n",
    "        max = 100\n",
    "    elif (diff == 5):\n",
    "        max = 1000\n",
    "    x=rnd.randint(0,max)\n",
    "    y=rnd.randint(0,max)\n",
    "\n",
    "    \n",
    "    answer = int(input(f\"What is {x} + {y} ?\"))\n",
    "\n",
    "    while (answer!=(x+y)):\n",
    "        answer=int(input(\"Try again\"))\n",
    "\n",
    "    again = \"\"\n",
    "    while(again!=\"y\" and again!=\"n\"):\n",
    "        again = input(\"Nice! Wanna play again ?(y/n)\")"
   ],
   "outputs": [
    {
     "output_type": "stream",
     "name": "stdout",
     "text": [
      "1. Very Easy \n",
      "2. Easy \n",
      "3. Medium \n",
      "4. Hard \n",
      "5. Insane \n"
     ]
    }
   ],
   "metadata": {}
  },
  {
   "cell_type": "markdown",
   "source": [
    " c) Feel free to extend this program with features of your choice."
   ],
   "metadata": {}
  },
  {
   "cell_type": "code",
   "execution_count": 51,
   "source": [
    "import random as rnd\n",
    "again=\"y\"\n",
    "print(\"1. Very Easy \\n2. Easy \\n3. Medium \\n4. Hard \\n5. Insane \")\n",
    "while ( again==\"y\" ):\n",
    "    print(\"Choose a difficulty from 1 to 5\")\n",
    "    diff = float(input(\"\"))\n",
    "    if(diff<1 or diff>5):\n",
    "        print(\"Please choose a valid number for the difficulty\")\n",
    "        diff = float(input(\"\"))\n",
    "    elif (diff == 1 ):\n",
    "        max = 10\n",
    "    elif (diff == 2):\n",
    "        max = 20\n",
    "    elif (diff == 3):\n",
    "        max = 50\n",
    "    elif (diff == 4 ):\n",
    "        max = 100\n",
    "    elif (diff == 5):\n",
    "        max = 1000\n",
    "    x=rnd.randint(0,max)\n",
    "    y=rnd.randint(0,max)\n",
    "    sign=rnd.randint(1,3)\n",
    "\n",
    "    if (sign == 1) :\n",
    "        print(f\"What is {x} + {y} ?\")\n",
    "        answer = int(input())\n",
    "        while (answer!=(x+y)):\n",
    "            answer=int(input(\"Try again\"))\n",
    "    elif (sign == 2):\n",
    "        print(f\"What is {x} - {y} ?\")\n",
    "        answer = int(input())\n",
    "        while (answer!=(x-y)):\n",
    "            answer=int(input(\"Try again\"))\n",
    "    elif (sign == 3):\n",
    "        print(f\"What is {x} x {y} ?\")\n",
    "        answer = int(input())\n",
    "        while (answer!=(x*y)):\n",
    "            answer=int(input(\"Try again\"))\n",
    "    \n",
    "\n",
    "    \n",
    "\n",
    "    again = \"\"\n",
    "    while(again!=\"y\" and again!=\"n\"):\n",
    "        again = input(\"Nice! Wanna play again ?(y/n)\")"
   ],
   "outputs": [
    {
     "output_type": "stream",
     "name": "stdout",
     "text": [
      "1. Very Easy \n",
      "2. Easy \n",
      "3. Medium \n",
      "4. Hard \n",
      "5. Insane \n",
      "Choose a difficulty from 1 to 5\n",
      "What is 10 + 2 ?\n",
      "Choose a difficulty from 1 to 5\n",
      "What is 4 - 3 ?\n",
      "Choose a difficulty from 1 to 5\n",
      "What is 6 + 10 ?\n",
      "Choose a difficulty from 1 to 5\n",
      "What is 0 + 13 ?\n",
      "Choose a difficulty from 1 to 5\n",
      "What is 3 + 17 ?\n",
      "Choose a difficulty from 1 to 5\n",
      "What is 73 - 633 ?\n"
     ]
    }
   ],
   "metadata": {}
  },
  {
   "cell_type": "markdown",
   "source": [
    "5. Check convergence "
   ],
   "metadata": {}
  },
  {
   "cell_type": "code",
   "execution_count": 98,
   "source": [
    "n= 5000000\n",
    "x=0\n",
    "sum=0\n",
    "while(x!=n):\n",
    "    x+=1\n",
    "    sum=sum+float(1/x)\n",
    "\n",
    "print(sum)"
   ],
   "outputs": [
    {
     "output_type": "stream",
     "name": "stdout",
     "text": [
      "16.002164235298594\n"
     ]
    }
   ],
   "metadata": {}
  },
  {
   "cell_type": "code",
   "execution_count": 109,
   "source": [
    "n= 20000\n",
    "x=-1\n",
    "sum=0\n",
    "\n",
    "while(x!=n):\n",
    "    x+=1\n",
    "    sum=sum+float(((-1)**x)/(2*x+1))\n",
    "\n",
    "print(sum)"
   ],
   "outputs": [
    {
     "output_type": "stream",
     "name": "stdout",
     "text": [
      "0.7853981758974536\n"
     ]
    }
   ],
   "metadata": {}
  }
 ],
 "metadata": {
  "orig_nbformat": 4,
  "language_info": {
   "name": "python",
   "version": "3.8.2",
   "mimetype": "text/x-python",
   "codemirror_mode": {
    "name": "ipython",
    "version": 3
   },
   "pygments_lexer": "ipython3",
   "nbconvert_exporter": "python",
   "file_extension": ".py"
  },
  "kernelspec": {
   "name": "python3",
   "display_name": "Python 3.8.2 64-bit ('python-programming-SAMI-FATMI-twlN9kEV': pipenv)"
  },
  "interpreter": {
   "hash": "e8c0f5da3a3a620c9e1b027d387145a2dbb6c76352a80070026223519564da83"
  }
 },
 "nbformat": 4,
 "nbformat_minor": 2
}