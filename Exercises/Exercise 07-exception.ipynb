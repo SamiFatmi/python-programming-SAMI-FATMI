{
 "cells": [
  {
   "cell_type": "markdown",
   "source": [
    "# 1. Find errors (*)\n",
    "Find the errors in this code to compute the distance between the point $(x,y)$ and the origin in a cartesian coordinate system.\n",
    "```\n",
    "impor numpy as np\n",
    "\n",
    "def distance(x,y)\n",
    "    reurn np.sqrt(x+y)\n",
    "\n",
    "print(distance([0.5, 0.5]))\n",
    "```"
   ],
   "metadata": {}
  },
  {
   "cell_type": "code",
   "execution_count": 11,
   "source": [
    "import numpy as np\n",
    "\n",
    "def distance(x,y):\n",
    "    return np.sqrt(x**2+y**2)\n",
    "\n",
    "\n",
    "print(distance(0.5, 0.5))"
   ],
   "outputs": [
    {
     "output_type": "stream",
     "name": "stdout",
     "text": [
      "0.7071067811865476\n"
     ]
    }
   ],
   "metadata": {}
  },
  {
   "cell_type": "markdown",
   "source": [
    "# 2. Find errors (*)\n",
    "Find the errors in this code. Just change the function, don't touch the test program.\n",
    "```\n",
    "def is_fourdigit(number):\n",
    "    if number//1000 < 10\n",
    "        return true\n",
    "    else \n",
    "        return false\n",
    "\n",
    "## test program\n",
    "test_numbers = [231, 3124, -4124, -1000,-999, 1001, 10000, -10000, 999]\n",
    "\n",
    "for number in test_numbers:\n",
    "    if is_fourdigit(number):\n",
    "        print(f\"{number} is four-digit\")\n",
    "    else:\n",
    "        print(f\"{number} is not four-digit\")\n",
    "```"
   ],
   "metadata": {}
  },
  {
   "cell_type": "code",
   "execution_count": 52,
   "source": [
    "def is_fourdigit(number):\n",
    "    if 1<= number//1000 < 10 or 1<= number//-1000<10:\n",
    "        return True\n",
    "    else :\n",
    "        return False\n",
    "\n",
    "# test program\n",
    "test_numbers = [231, 3124, -4124, -1000,-999, 1001, 10000, -10000, 999]\n",
    "\n",
    "for number in test_numbers:\n",
    "    if is_fourdigit(number):\n",
    "        print(f\"{number} is four-digit\")\n",
    "    else:\n",
    "        print(f\"{number} is not four-digit\")\n",
    "\n",
    "\n"
   ],
   "outputs": [
    {
     "output_type": "stream",
     "name": "stdout",
     "text": [
      "231 is not four-digit\n",
      "3124 is four-digit\n",
      "-4124 is four-digit\n",
      "-1000 is four-digit\n",
      "-999 is not four-digit\n",
      "1001 is four-digit\n",
      "10000 is not four-digit\n",
      "-10000 is not four-digit\n",
      "999 is not four-digit\n"
     ]
    }
   ],
   "metadata": {}
  },
  {
   "cell_type": "markdown",
   "source": [
    "# 3. Tram (*)\n",
    "Kokchun is a clumpsy computer user that doesn't take trams too often. Write a program to prompt the user for:\n",
    "- number of times he/she wants to take tram in one month\n",
    "- cost for one ticket\n",
    "- cost for monthly card\n",
    "\n",
    "The program should calculate if it's worth for him to buy monthly card or not. Make the program user friendly with clear error messages and ask again in case of input errors."
   ],
   "metadata": {}
  },
  {
   "cell_type": "code",
   "execution_count": 1,
   "source": [
    "while True:\n",
    "    try:\n",
    "        numberoftimes=(input(\"Please enter the number of times you wish to take the tram\"))\n",
    "        numberoftimes=int(numberoftimes)\n",
    "        if not numberoftimes >0 :\n",
    "            raise ValueError(\"Please enter a valid number\")\n",
    "        break\n",
    "    except ValueError as err :\n",
    "        print(err)\n",
    "\n",
    "while True:\n",
    "    try:\n",
    "        ticketprice=(input(\"Please enter the tram ticket price\"))\n",
    "        ticketprice=int(ticketprice)\n",
    "        if not ticketprice >0 :\n",
    "            raise ValueError(\"Please enter a valid number\")\n",
    "        break\n",
    "    except ValueError as err :\n",
    "        print(err)\n",
    "\n",
    "while True:\n",
    "    try:\n",
    "        cardprice=(input(\"Please enter tram card price\"))\n",
    "        cardprice=int(cardprice)\n",
    "        if not cardprice >0 :\n",
    "            raise ValueError(\"Please enter a valid number\")\n",
    "        break\n",
    "    except ValueError as err :\n",
    "        print(err)\n",
    "\n",
    "\n",
    "if (cardprice>numberoftimes*ticketprice):\n",
    "    print (\"Buying single tickets is a better alternative\")\n",
    "else:\n",
    "    print (\"Buying a card is a better alternative\")\n",
    "        "
   ],
   "outputs": [
    {
     "output_type": "stream",
     "name": "stdout",
     "text": [
      "invalid literal for int() with base 10: 'hu'\n",
      "invalid literal for int() with base 10: 'ede'\n",
      "invalid literal for int() with base 10: 'dada'\n",
      "Buying single tickets is a better alternative\n"
     ]
    }
   ],
   "metadata": {}
  }
 ],
 "metadata": {
  "orig_nbformat": 4,
  "language_info": {
   "name": "python",
   "version": "3.8.2",
   "mimetype": "text/x-python",
   "codemirror_mode": {
    "name": "ipython",
    "version": 3
   },
   "pygments_lexer": "ipython3",
   "nbconvert_exporter": "python",
   "file_extension": ".py"
  },
  "kernelspec": {
   "name": "python3",
   "display_name": "Python 3.8.2 64-bit ('python-programming-SAMI-FATMI-twlN9kEV': pipenv)"
  },
  "interpreter": {
   "hash": "e8c0f5da3a3a620c9e1b027d387145a2dbb6c76352a80070026223519564da83"
  }
 },
 "nbformat": 4,
 "nbformat_minor": 2
}