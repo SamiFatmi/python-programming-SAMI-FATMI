{
 "cells": [
  {
   "cell_type": "markdown",
   "source": [
    "# 1. Dice rolls (*)\n",
    "Create a textfile called dice_rolls.txt using Python. Also for each subtask, write adequate headers.\n",
    "  \n",
    "  a)   Simulate 20 dice rolls and write them to your textfile. (*)\n",
    " \n",
    "  b)   Sort the dice rolls from a) and write them to a separate row in the same textfile. (*)\n",
    " \n",
    "  c)   Count the number of fours in the dice rolls and write them to a separate row in the same textfile. (*)\n"
   ],
   "metadata": {}
  },
  {
   "cell_type": "code",
   "execution_count": 50,
   "source": [
    "import random as rnd\n",
    "\n",
    "with open(\"files/dices_rolls.txt\",\"w\") as f1, open(\"files/dices_rolls.txt\",\"a\") as f2 :\n",
    "    f1.write(\"\")\n",
    "    somelist=[]\n",
    "    for i in range(20):\n",
    "        somelist.append(rnd.randint(1,6))\n",
    "    \n",
    "    f2.write(\"a) [\")\n",
    "    for i in somelist:\n",
    "        f2.write(f\"{i}, \")\n",
    "    f2.write(\"\\b]\")\n",
    "\n",
    "    somelist.sort()\n",
    "    f2.write(\"\\nb) [\")\n",
    "    for i in somelist:\n",
    "        f2.write(f\"{i}, \")\n",
    "    \n",
    "    f2.write(\"\\b]\")\n",
    "    f2.write(f\"\\nc) Antalet #4 : {somelist.count(4)}\")\n",
    "\n",
    "    \n",
    "\n",
    "\n",
    "\n",
    "    "
   ],
   "outputs": [],
   "metadata": {}
  },
  {
   "cell_type": "markdown",
   "source": [
    "# 2. Test results (*)\n",
    "Read in the file test_result.txt in Python.\n",
    "  \n",
    "  a)   Print out the text in the terminal (*)\n",
    "  \n",
    "  b)   Create new rows in the same file and write the people and their corresponding scores in alphabetical order. (*)\n",
    "  \n",
    "  c)   Create additional rows in the same file and sort the people after their grades. The grade limits are: (**)\n",
    "\n",
    "F < 20\n",
    "\n",
    "E: 20-29\n",
    "\n",
    "D: 30-39\n",
    "\n",
    "C: 40-49\n",
    "\n",
    "B: 50-59\n",
    "\n",
    "A: 60-70"
   ],
   "metadata": {}
  },
  {
   "cell_type": "code",
   "execution_count": 99,
   "source": [
    "with open(\"files/test_result.txt\",\"r\") as r:\n",
    "    rewrite=r.read()\n",
    "\n",
    "with open(\"files/test_result.txt\",\"a\") as a, open(\"files/test_result.txt\",\"w\" ) as w :\n",
    "    w.write(rewrite)\n",
    "    \n",
    "    text = rewrite.split()\n",
    "    result_list=[]\n",
    "    somelist=[]\n",
    "    x=0\n",
    "    y=0\n",
    "    for i in range(len(text)):\n",
    "        somelist.append(text[i])\n",
    "        if not text[i].isdigit() :\n",
    "            y+=1\n",
    "        else:\n",
    "            x+=1\n",
    "            y=0\n",
    "            result_list.append(somelist)\n",
    "            somelist=[]\n",
    "    \n",
    "    result_list.sort()\n",
    "\n",
    "    new_result_list=[]\n",
    "    for i in range(len(result_list)):\n",
    "        new_result_list.append(\" \".join(result_list[i]))\n",
    "\n",
    "    \n",
    "    a.write(\"\\n\\n\\nb)\\n\")\n",
    "    for i in new_result_list:\n",
    "        a.write(f\"{i}\\n\")\n",
    "\n",
    "    c=\"\"\n",
    "\n",
    "    \n",
    "    for i in result_list:\n",
    "        c=i[-1]\n",
    "        for j in range(-1,-len(i),-1):\n",
    "            i[j]=i[j-1]\n",
    "        i[0]=c\n",
    "    \n",
    "    result_list.sort()\n",
    "    \n",
    "\n",
    "    \n",
    "\n",
    "    i=0\n",
    "    a.write(\"\\n\\nc)\\n\")\n",
    "    a.write(\"F:\\n\")\n",
    "    while int(result_list[i][0])<20:\n",
    "        for x in range(1,len(result_list[i]),1):\n",
    "            a.write(f\"{result_list[i][x]} \")\n",
    "        i+=1\n",
    "        a.write(\"\\n\")\n",
    "\n",
    "    a.write(\"\\n\\nE:\\n\")\n",
    "    while int(result_list[i][0])<30:\n",
    "        for x in range(1,len(result_list[i]),1):\n",
    "            a.write(f\"{result_list[i][x]} \")\n",
    "        i+=1\n",
    "        a.write(\"\\n\")\n",
    "\n",
    "    a.write(\"\\n\\nD:\\n\")\n",
    "    while int(result_list[i][0])<40:\n",
    "        for x in range(1,len(result_list[i]),1):\n",
    "            a.write(f\"{result_list[i][x]} \")\n",
    "        i+=1\n",
    "        a.write(\"\\n\")\n",
    "    \n",
    "    a.write(\"\\n\\nC:\\n\")\n",
    "    while int(result_list[i][0])<50:\n",
    "        for x in range(1,len(result_list[i]),1):\n",
    "            a.write(f\"{result_list[i][x]} \")\n",
    "        i+=1\n",
    "        a.write(\"\\n\")\n",
    "\n",
    "    a.write(\"\\n\\nB:\\n\")\n",
    "    while int(result_list[i][0])<60:\n",
    "        for x in range(1,len(result_list[i]),1):\n",
    "            a.write(f\"{result_list[i][x]} \")\n",
    "        i+=1\n",
    "        a.write(\"\\n\")\n",
    "\n",
    "    a.write(\"\\n\\nA:\\n\")\n",
    "    while i<len(result_list) and int(result_list[i][0])<71:\n",
    "        for x in range(1,len(result_list[i]),1):\n",
    "            a.write(f\"{result_list[i][x]} \")\n",
    "        i+=1\n",
    "        a.write(\"\\n\")\n",
    "    "
   ],
   "outputs": [
    {
     "output_type": "stream",
     "name": "stdout",
     "text": [
      "[['Adam', 'Gustafsson', '25'], ['Björn', 'Björnsson', '39'], ['Bose', 'Bosseson', '32'], ['Ella', 'Ester', '41'], ['Emil', 'Johansson', '23'], ['Emma', 'Boden', '32'], ['Erik', 'Eriksson', '31'], ['Fredrika', 'Ulven', '10'], ['Gore', 'Bord', '55'], ['Hanna', 'Karlsson', '23'], ['Håkan', 'Håkanson', '24'], ['Ida', 'Håkansson', '23'], ['Jakob', 'Kallander', '65'], ['Johan', 'Johansson', '42'], ['Jonas', 'Jonasson', '31'], ['Karl', 'Karlsson', '32'], ['Ove', 'Karlsten', '41'], ['Sven', 'Erik', 'Karlsson', '13'], ['Sven', 'Erik', 'Lundin', '39']]\n"
     ]
    }
   ],
   "metadata": {}
  },
  {
   "cell_type": "markdown",
   "source": [
    "# 3. National test (*)\n",
    "Read in the file NPvt19Ma2A.txt and NPvt19Ma2C.txt in Python. Use matplotlib to plot pie charts for each grade categories in each file. (*)"
   ],
   "metadata": {}
  },
  {
   "cell_type": "code",
   "execution_count": 118,
   "source": [
    "import matplotlib.pyplot as plt\n",
    "import numpy as np\n",
    "\n",
    "path1=\"files/NPvt19Ma2A.txt\"\n",
    "path2=\"files/NPvt19Ma2C.txt\"\n",
    "\n",
    "with open(path1,\"r\") as p1, open(path2,\"r\") as p2 :\n",
    "    file1=(p1.read()).split()\n",
    "    file2=(p2.read().split())\n",
    "    \n",
    "    xfile1=[float(file1[i].strip(\"%\")) for i in range(len(file1)) if (i+1)%2==0]\n",
    "    yfile1=[(file1[i].strip(\"%\")) for i in range(len(file1)) if (i)%2==0]\n",
    "\n",
    "    xfile2=[float(file2[i].strip(\"%\")) for i in range(len(file2)) if (i+1)%2==0]\n",
    "    yfile2=[(file2[i].strip(\"%\")) for i in range(len(file2)) if (i)%2==0]\n",
    "\n",
    "\n",
    "y = np.array(xfile1)\n",
    "mylabels = yfile1\n",
    "\n",
    "plt.pie(y, labels = mylabels, startangle = 90)\n",
    "plt.show()\n",
    "\n",
    "y = np.array(xfile2)\n",
    "mylabels = yfile2\n",
    "\n",
    "plt.pie(y, labels = mylabels, startangle = 90)\n",
    "plt.show()    "
   ],
   "outputs": [
    {
     "output_type": "stream",
     "name": "stdout",
     "text": [
      "[0.0, 0.0, 2.4, 5.3, 37.3, 55.0]\n",
      "['A', 'B', 'C', 'D', 'E', 'F']\n",
      "[8.4, 14.2, 26.9, 16.6, 21.3, 12.6]\n",
      "['A', 'B', 'C', 'D', 'E', 'F']\n"
     ]
    },
    {
     "output_type": "display_data",
     "data": {
      "image/png": "[encoded data removed]",
      "text/plain": [
       "<Figure size 432x288 with 1 Axes>"
      ]
     },
     "metadata": {}
    },
    {
     "output_type": "display_data",
     "data": {
      "image/png": "[encoded data removed]",
      "text/plain": [
       "<Figure size 432x288 with 1 Axes>"
      ]
     },
     "metadata": {}
    }
   ],
   "metadata": {}
  },
  {
   "cell_type": "markdown",
   "source": [
    "# 4. Dice roll experiment (**)¶\n",
    "Simulate 10, 100, 1000, 10000, 100000 dice rolls and count the freqencies and probabilities for each number in each simulation. Create a new text file using Python with the name \"simulation.txt\" and write the results to that text file.(**)"
   ],
   "metadata": {}
  },
  {
   "cell_type": "code",
   "execution_count": 126,
   "source": [
    "import random as rnd\n",
    "\n",
    "with open(\"files/simulations.txt\",\"w\") as w:\n",
    "    \n",
    "    simulations=[10,100,1000,10000,100000]\n",
    "    numbers=[1,2,3,4,5,6]\n",
    "    for i in simulations : \n",
    "        w.write(f\"{i} simulations :\\n\")\n",
    "        simulation_list=[]\n",
    "        frequencies=[]\n",
    "        porbabilities=[]\n",
    "        for y in range(i):\n",
    "            simulation_list.append(rnd.randint(1,6))\n",
    "        \n",
    "        for z in range(1,7,1):\n",
    "            frequencies.append(simulation_list.count(z))\n",
    "            porbabilities.append(frequencies[z-1]/i)\n",
    "        \n",
    "        for a,b,c in zip(numbers,frequencies,porbabilities):\n",
    "            w.write(f\"{a}: frequency = {b} - probability = {c}\\n\")\n",
    "        w.write(\"\\n\")\n"
   ],
   "outputs": [],
   "metadata": {}
  }
 ],
 "metadata": {
  "orig_nbformat": 4,
  "language_info": {
   "name": "python",
   "version": "3.8.2",
   "mimetype": "text/x-python",
   "codemirror_mode": {
    "name": "ipython",
    "version": 3
   },
   "pygments_lexer": "ipython3",
   "nbconvert_exporter": "python",
   "file_extension": ".py"
  },
  "kernelspec": {
   "name": "python3",
   "display_name": "Python 3.8.2 64-bit ('python-programming-SAMI-FATMI-twlN9kEV': pipenv)"
  },
  "interpreter": {
   "hash": "e8c0f5da3a3a620c9e1b027d387145a2dbb6c76352a80070026223519564da83"
  }
 },
 "nbformat": 4,
 "nbformat_minor": 2
}