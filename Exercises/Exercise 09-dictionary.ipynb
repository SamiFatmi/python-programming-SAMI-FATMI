{
 "cells": [
  {
   "cell_type": "markdown",
   "source": [
    "# 1. Curriculum (*)\n",
    "Create a dictionary containing all the courses that you will study in this program, with the course names as keys and the amount of points as value. Then calculate the number of points that you will study in total. (*)"
   ],
   "metadata": {}
  },
  {
   "cell_type": "code",
   "execution_count": 12,
   "source": [
    "curriculum = {\n",
    "    \"Databaser\":\t25,\n",
    "    \"Databehandling\":25,\n",
    "    \"Djup Maskininlärning\":\t40,\n",
    "    \"Examensarbete\":\t15,\n",
    "    \"Introduktionskurs till AI\":\t5,\n",
    "    \"LIA 1\":\t40,\n",
    "    \"LIA 2\":\t70,\n",
    "    \"Maskininlärning\":\t45,\n",
    "    \"Praktisk maskininlärning och projektmetodik\":\t45,\n",
    "    \"Programmering med Python\":\t40,\n",
    "    \"Praktisk maskininlärning och projektmetodik\":\t45,\n",
    "    \"Statistiska metoder\": 30,\n",
    "    \"Visualisering, presentationer och storytelling\": 20,\n",
    "}\n",
    "\n",
    "points=0\n",
    "for key,value in curriculum.items():\n",
    "    points+=value\n",
    "\n",
    "print(f\"We will be studying {points} points through this program\")\n",
    "    "
   ],
   "outputs": [
    {
     "output_type": "stream",
     "name": "stdout",
     "text": [
      "We will be studying 400 points through this program\n"
     ]
    }
   ],
   "metadata": {}
  },
  {
   "cell_type": "markdown",
   "source": [
    "# 2. Dice simulation (*)\n",
    "Simulate 1000000 dice rolls and save the number of ones, twos, ..., sixes in a dictionary. Then print them out in the terminal. (*)"
   ],
   "metadata": {}
  },
  {
   "cell_type": "code",
   "execution_count": 15,
   "source": [
    "import random as rnd \n",
    "\n",
    "number_of_dice_rolls=1000000\n",
    "dice_rolls_results={number:0 for number in range(1,7)}\n",
    "\n",
    "for i in range(number_of_dice_rolls):\n",
    "    dice=rnd.randint(1,6)\n",
    "    dice_rolls_results[dice] += 1\n",
    "\n",
    "print(dice_rolls_results)\n"
   ],
   "outputs": [
    {
     "output_type": "stream",
     "name": "stdout",
     "text": [
      "{1: 166652, 2: 166756, 3: 166642, 4: 166805, 5: 166746, 6: 166399}\n"
     ]
    }
   ],
   "metadata": {}
  },
  {
   "cell_type": "markdown",
   "source": [
    "# 3. Pokemon list (*)\n",
    "\n",
    "Read in the file pokemon_list.txt in Python. Create a variable with name pokedex with the key:value \"pokemon\":\"type, index\". For example when searching for the keys \"Gengar\" and \"Pikachu\": (*)\n",
    "\n",
    "print(pokedex[\"Gengar\"])\n",
    "\n",
    "print(pokedex[\"Pikachu\"])\n",
    "\n",
    "\n",
    "Spöke/Gift\n",
    "\n",
    "Elektrisk"
   ],
   "metadata": {}
  },
  {
   "cell_type": "code",
   "execution_count": 51,
   "source": [
    "path = \"files/pokemon_list.txt\"\n",
    "\n",
    "with open(path,\"r\") as p:\n",
    "    pokemon_list=p.read()\n",
    "\n",
    "def data_organizer(somelist):\n",
    "    somelist=somelist.split(\"\\n\")\n",
    "    for i in range(len(somelist)):\n",
    "        somelist[i]=somelist[i].strip(\"\\ufeff\")\n",
    "        if somelist[i]==\"\":\n",
    "            somelist.pop(i)\n",
    "        else: \n",
    "            somelist[i]=somelist[i].split()\n",
    " \n",
    "    return(somelist)\n",
    "    \n",
    "def list_into_pokedex(somelist):\n",
    "    pokedex={}\n",
    "    for i in range (len(somelist)):\n",
    "        value=f\"{somelist[i][2]},{somelist[i][0]}\"\n",
    "        pokedex[somelist[i][1]]= value\n",
    "\n",
    "    return (pokedex)\n",
    "\n",
    "\n",
    "pokedex=list_into_pokedex(data_organizer(pokemon_list))\n",
    "\n",
    "print(pokedex[\"Pikachu\"])\n"
   ],
   "outputs": [
    {
     "output_type": "stream",
     "name": "stdout",
     "text": [
      "Elektrisk,25\n"
     ]
    }
   ],
   "metadata": {}
  },
  {
   "cell_type": "markdown",
   "source": [
    "# 4. Morse code (**)\n",
    "\n",
    "Read in the file morse.txt, save it in a dictionary and create a function that lets the user input a message to get it translated to morse code. For example (**)\n",
    "print(morse[\"SOS\"])\n",
    "print(morse[\"POKEMON\"])\n",
    "\n",
    "...---...\n",
    ".------.-.------."
   ],
   "metadata": {}
  },
  {
   "cell_type": "code",
   "execution_count": 1,
   "source": [
    "path=\"files/morse.txt\"\n",
    "\n",
    "with open (path,\"r\") as p1:\n",
    "    morse_code=p1.read()\n",
    "\n",
    "morse_code=morse_code.split(\"\\n\")\n",
    "\n",
    "for i in range(len(morse_code)):\n",
    "    if morse_code[i]==\"\":\n",
    "        morse_code.pop(i)\n",
    "    else:\n",
    "        morse_code[i]=morse_code[i].split(\": \")\n",
    "\n",
    "morse={}\n",
    "\n",
    "for code in morse_code:\n",
    "    morse[code[0]]=code[1]\n",
    "\n",
    "def word_to_morse(word):\n",
    "    word=word.upper()\n",
    "    result=\"\"\n",
    "    for i in range(len(word)):\n",
    "        result+=morse[word[i]]\n",
    "    return result\n",
    "\n",
    "\n",
    "word=input(\"Please enter a word : \")\n",
    "print(word_to_morse(word))"
   ],
   "outputs": [
    {
     "output_type": "stream",
     "name": "stdout",
     "text": [
      ".------.-.------.\n"
     ]
    }
   ],
   "metadata": {}
  }
 ],
 "metadata": {
  "orig_nbformat": 4,
  "language_info": {
   "name": "python",
   "version": "3.8.2",
   "mimetype": "text/x-python",
   "codemirror_mode": {
    "name": "ipython",
    "version": 3
   },
   "pygments_lexer": "ipython3",
   "nbconvert_exporter": "python",
   "file_extension": ".py"
  },
  "kernelspec": {
   "name": "python3",
   "display_name": "Python 3.8.2 64-bit ('python-programming-SAMI-FATMI-twlN9kEV': pipenv)"
  },
  "interpreter": {
   "hash": "e8c0f5da3a3a620c9e1b027d387145a2dbb6c76352a80070026223519564da83"
  }
 },
 "nbformat": 4,
 "nbformat_minor": 2
}