#Exercise 0


---
# Lecture notes - input-output

---
This is the lecture note for **input**, **output** and **variables**. You will learn: 
- comments
- how to use print
- how to create variables
- how to prompt user for input 
- basic f-strings

## Python code
Since this is the first lecture you should know that Python can be written in: 
- Python interactive shell
- a Python script file (.py)
- a Jupyter Notebook file (.ipynb)
---
