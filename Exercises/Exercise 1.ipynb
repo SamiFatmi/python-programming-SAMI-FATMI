{
 "cells": [
  {
   "cell_type": "markdown",
   "source": [
    "1. Check sign (*)\n",
    "Ask the user to input a number and check if this number is positive, negative or zero and print it out."
   ],
   "metadata": {}
  },
  {
   "cell_type": "code",
   "execution_count": 8,
   "source": [
    "number = int(input(\"Please enter a number\"))\n",
    "\n",
    "if (number<0):\n",
    "    print(\"Negative\")\n",
    "elif (number>0):\n",
    "        print(\"Positive\")\n",
    "else :\n",
    "        print(\"Zero\")"
   ],
   "outputs": [
    {
     "output_type": "stream",
     "name": "stdout",
     "text": [
      "Negative\n"
     ]
    }
   ],
   "metadata": {}
  },
  {
   "cell_type": "markdown",
   "source": [
    "2. Smallest (*)\n",
    "Ask the user to input two numbers and check which one is the smallest and print it out."
   ],
   "metadata": {}
  },
  {
   "cell_type": "code",
   "execution_count": 10,
   "source": [
    "numone = int(input(\"Enter the first number\"))\n",
    "numtwo = int(input(\"Enter the second number\"))\n",
    "\n",
    "if (numone<numtwo):\n",
    "    print(numone)\n",
    "else :\n",
    "    print(numtwo)"
   ],
   "outputs": [
    {
     "output_type": "stream",
     "name": "stdout",
     "text": [
      "8\n"
     ]
    }
   ],
   "metadata": {}
  },
  {
   "cell_type": "markdown",
   "source": [
    "3. Right angle (*)\n",
    "Ask the user to input three angles and check if the triangle has a right angle. Your code should make sure that all three angles are valid and make up a triangle."
   ],
   "metadata": {}
  },
  {
   "cell_type": "code",
   "execution_count": 13,
   "source": [
    "angone = int(input(\"Enter the first angle\"))\n",
    "angtwo = int(input(\"Enter the second angle\"))\n",
    "angthree = int(input(\"Enter the third angle\"))\n",
    "print()\n",
    "\n",
    "if ( angone+angtwo+angthree != 180) : \n",
    "    print(\"Please enter valid angles\")\n",
    "elif(angone==90 or angtwo==90 or angthree==90):\n",
    "    print(\"This triangle has a right angle\")\n",
    "else : \n",
    "    print(\"This triange has no right angle\")"
   ],
   "outputs": [
    {
     "output_type": "stream",
     "name": "stdout",
     "text": [
      "\n",
      "This triangle has a right angle\n"
     ]
    }
   ],
   "metadata": {}
  },
  {
   "cell_type": "markdown",
   "source": [
    "4. Medicine (*)\n",
    "The information in the following table is stated in a medicine package. Also it is stated that for children weight is more important than age.\n",
    "Age\tNumber of pills\n",
    "Adults & adolescent\n",
    "over 40 kg\tover 12 years\t1-2\n",
    "Children 26-40 kg\t7-12 years\t1/2-1\n",
    "Children 15-25 kg\t3-7 years\t1/2\n",
    "Let the user input an age and a weight, the program should recommend the number of pills for the user."
   ],
   "metadata": {}
  },
  {
   "cell_type": "code",
   "execution_count": 19,
   "source": [
    "age = int(input(\"Enter the age\"))\n",
    "weight = int(input(\"Enter weight\"))\n",
    "\n",
    "if(weight > 40 and age>12 ):\n",
    "    print(\"1 to 2 pills\")\n",
    "elif (weight<40 and weight>25):\n",
    "    print(\"0.5 to 1 pills\")\n",
    "elif ( weight<26 and weight>14 and age>2):\n",
    "    print(\"0.5 pill\")\n",
    "else:\n",
    "    print(\"no pills, child too young and/or weight is too low\")"
   ],
   "outputs": [
    {
     "output_type": "stream",
     "name": "stdout",
     "text": [
      "no pills, child too young and/or weight is too low\n"
     ]
    }
   ],
   "metadata": {}
  },
  {
   "cell_type": "markdown",
   "source": [
    "5. Divisible (*)\n",
    "Let the user input a number. Check if the number is\n",
    "even or odd\n",
    "is divisible by 5\n",
    "is divisble by 5 and odd"
   ],
   "metadata": {}
  },
  {
   "cell_type": "code",
   "execution_count": 25,
   "source": [
    "number = int(input(\"Enter a number\"))\n",
    "\n",
    "if (number%2==0):\n",
    "    print(\"1. Your number is even\")\n",
    "else :\n",
    "    print(\"1. Your number is odd\")\n",
    "\n",
    "if (number%5==0):\n",
    "    print(\"2. Your number is divisble by 5\")\n",
    "else :\n",
    "    print(\"2. Your number is not divisible by 5\")\n",
    "\n",
    "if (number%5==0 and number%2!=0):\n",
    "    print(\"3. Your number is divisble by 5 and odd\")\n",
    "else :\n",
    "    print(\"3. Your number is not divisible by 5 and/or not odd.\")"
   ],
   "outputs": [
    {
     "output_type": "stream",
     "name": "stdout",
     "text": [
      "1. Your number is odd\n",
      "2. Your number is divisble by 5\n",
      "3. Your number is divisble by 5 and odd\n"
     ]
    }
   ],
   "metadata": {}
  },
  {
   "cell_type": "markdown",
   "source": [
    "6. Luggage size (*)\n",
    "The maximum allowed luggage size for boarding an airplane is:\n",
    "weight: 8kg\n",
    "dimensions: 55x40x23cm (length x width x height)\n",
    "Let the user input weight, length, width and height of the luggage. The program should check if the luggage is allowed or not."
   ],
   "metadata": {}
  },
  {
   "cell_type": "code",
   "execution_count": 27,
   "source": [
    "weight = int(input(\"Enter the weight\"))\n",
    "length = int(input(\"Enter the length\"))\n",
    "width = int(input(\"Enter the width\"))\n",
    "height = int(input(\"Enter the height\"))\n",
    "\n",
    "if ( weight>8 or length>55 or width>40 or height>23):\n",
    "    print(\"Luggage not allowed\")\n",
    "else:\n",
    "    print(\"Luggage allowed\")"
   ],
   "outputs": [
    {
     "output_type": "stream",
     "name": "stdout",
     "text": [
      "Luggage not allowed\n"
     ]
    }
   ],
   "metadata": {}
  }
 ],
 "metadata": {
  "orig_nbformat": 4,
  "language_info": {
   "name": "python",
   "version": "3.8.2",
   "mimetype": "text/x-python",
   "codemirror_mode": {
    "name": "ipython",
    "version": 3
   },
   "pygments_lexer": "ipython3",
   "nbconvert_exporter": "python",
   "file_extension": ".py"
  },
  "kernelspec": {
   "name": "python3",
   "display_name": "Python 3.8.2 64-bit ('python-programming-SAMI-FATMI-twlN9kEV': pipenv)"
  },
  "interpreter": {
   "hash": "e8c0f5da3a3a620c9e1b027d387145a2dbb6c76352a80070026223519564da83"
  }
 },
 "nbformat": 4,
 "nbformat_minor": 2
}