{
 "cells": [
  {
   "cell_type": "markdown",
   "source": [
    "1. Dice rolls (*)\n",
    "Simulate 10 dice rolls and append the rolls to a list or use list comprehension.\n",
    "a)   sort the list in ascending order (*) "
   ],
   "metadata": {}
  },
  {
   "cell_type": "code",
   "execution_count": 99,
   "source": [
    "import random as rnd\n",
    "\n",
    "dices= [rnd.randint(1,6) for i in range(10)]\n",
    "\n",
    "print(dices)\n"
   ],
   "outputs": [
    {
     "output_type": "stream",
     "name": "stdout",
     "text": [
      "[6, 1, 5, 6, 1, 4, 2, 6, 1, 6]\n"
     ]
    }
   ],
   "metadata": {}
  },
  {
   "cell_type": "markdown",
   "source": [
    "b)   sort the list in descending order (*)"
   ],
   "metadata": {}
  },
  {
   "cell_type": "code",
   "execution_count": 19,
   "source": [
    "import random as rnd\n",
    "\n",
    "dices= [rnd.randint(1,6) for i in range(10)]\n",
    "dices.sort()\n",
    "\n",
    "print(dices)"
   ],
   "outputs": [
    {
     "output_type": "stream",
     "name": "stdout",
     "text": [
      "[1, 1, 2, 3, 3, 4, 5, 5, 5, 6]\n"
     ]
    }
   ],
   "metadata": {}
  },
  {
   "cell_type": "markdown",
   "source": [
    "c)   find the maximum and minimum value in the list (*)"
   ],
   "metadata": {}
  },
  {
   "cell_type": "code",
   "execution_count": 21,
   "source": [
    "import random as rnd\n",
    "\n",
    "dices= [rnd.randint(1,6) for i in range(10)]\n",
    "\n",
    "print(f\"Min = {min(dices)}\")\n",
    "print(f\"Max = {max(dices)}\")\n"
   ],
   "outputs": [
    {
     "output_type": "stream",
     "name": "stdout",
     "text": [
      "Min = 1\n",
      "Max = 6\n"
     ]
    }
   ],
   "metadata": {}
  },
  {
   "cell_type": "markdown",
   "source": [
    "2. Food menu (*)\n",
    "Create a:\n",
    "  a)   list with the following elements: \"vegetarisk lasagne\", \"spaghetti\", \"fisk\", \"grönsakssoppa\", \"pannkakor\". (*)\n",
    "  b)   list with the weekdays (*)\n",
    "  c)   create a food menu with each day corresponding to each food item and print it out. (*)"
   ],
   "metadata": {}
  },
  {
   "cell_type": "code",
   "execution_count": 28,
   "source": [
    "meals = [\"vegetarisk lasagne\", \"spaghetti\", \"fisk\", \"grönsakssoppa\", \"pannkakor\"]\n",
    "weekdays = [\"Monday\",\"Tuesday\",\"Wednesday\",\"Thursday\",\"Friday\"]\n",
    "\n",
    "for x,y in zip(weekdays,meals) :\n",
    "    print(x,\" \",y)\n",
    "print(meals)"
   ],
   "outputs": [
    {
     "output_type": "stream",
     "name": "stdout",
     "text": [
      "Monday   vegetarisk lasagne\n",
      "Tuesday   spaghetti\n",
      "Wednesday   fisk\n",
      "Thursday   grönsakssoppa\n",
      "Friday   pannkakor\n",
      "['vegetarisk lasagne', 'spaghetti', 'fisk', 'grönsakssoppa', 'pannkakor']\n"
     ]
    }
   ],
   "metadata": {}
  },
  {
   "cell_type": "markdown",
   "source": [
    "3. Squares (*)\n",
    "  a)   Use list comprehension to create a list of squares from -10 to 10 (*)\n",
    "  a)   Plot this list using matplotlib. (*)"
   ],
   "metadata": {}
  },
  {
   "cell_type": "code",
   "execution_count": 81,
   "source": [
    "import matplotlib.pyplot as plt \n",
    "\n",
    "squares = [ x**2 for x in range(-10,11,1)]\n",
    "\n",
    "\n",
    "plt.plot(range(-10, 11),squares)\n",
    "plt.show()"
   ],
   "outputs": [
    {
     "output_type": "display_data",
     "data": {
      "image/png": "[encoded data removed]",
      "text/plain": [
       "<Figure size 432x288 with 1 Axes>"
      ]
     },
     "metadata": {
      "needs_background": "light"
     }
    }
   ],
   "metadata": {}
  },
  {
   "cell_type": "markdown",
   "source": [
    "4. Chessboard (**)\n",
    "  a)   Create this list using list comprehension: (*)\n",
    "['A1', 'B1', 'C1', 'D1', 'E1', 'F1', 'G1', 'H1']\n",
    "  b)   Create a 2D list to hold the coordinates in a chessboard. (**)"
   ],
   "metadata": {}
  },
  {
   "cell_type": "code",
   "execution_count": 42,
   "source": [
    "\n",
    "firstline = [ f\"{x}1\" for x in [\"A\",\"B\",\"C\",\"D\",\"E\",\"F\",\"G\",\"H\"]]\n",
    "print(firstline)\n",
    "\n",
    "chessboard = [[f\"{x}{y}\" for x in [\"A\",\"B\",\"C\",\"D\",\"E\",\"F\",\"G\",\"H\"]] for y in range(1,9,1)]\n",
    "print(chessboard)\n"
   ],
   "outputs": [
    {
     "output_type": "stream",
     "name": "stdout",
     "text": [
      "['A1', 'B1', 'C1', 'D1', 'E1', 'F1', 'G1', 'H1']\n",
      "[['A1', 'B1', 'C1', 'D1', 'E1', 'F1', 'G1', 'H1'], ['A2', 'B2', 'C2', 'D2', 'E2', 'F2', 'G2', 'H2'], ['A3', 'B3', 'C3', 'D3', 'E3', 'F3', 'G3', 'H3'], ['A4', 'B4', 'C4', 'D4', 'E4', 'F4', 'G4', 'H4'], ['A5', 'B5', 'C5', 'D5', 'E5', 'F5', 'G5', 'H5'], ['A6', 'B6', 'C6', 'D6', 'E6', 'F6', 'G6', 'H6'], ['A7', 'B7', 'C7', 'D7', 'E7', 'F7', 'G7', 'H7'], ['A8', 'B8', 'C8', 'D8', 'E8', 'F8', 'G8', 'H8']]\n"
     ]
    }
   ],
   "metadata": {}
  },
  {
   "cell_type": "markdown",
   "source": [
    "5. Dice rolls convergence (**)\n",
    "Simulate:\n",
    "  a)   100 dice rolls and count the number of outcome six. (*)\n",
    "  b)   10, 100, 1000, 10000, 100000, 1000000 dice rolls. Count the number of outcome six in each simulation and store it in a list. Compute the probability of outcome six in each simulation. (**)\n",
    "  c)   Use matplotlib to plot this list. (*)"
   ],
   "metadata": {}
  },
  {
   "cell_type": "code",
   "execution_count": 65,
   "source": [
    "import random as rnd\n",
    "\n",
    "outcomesix=0\n",
    "\n",
    "dice=[rnd.randint(1,6) for i in range(1,101,1)]\n",
    "\n",
    "for i in dice:\n",
    "    if i == 6 :\n",
    "        outcomesix+=1\n",
    "\n",
    "print(f\"a) {outcomesix}\")"
   ],
   "outputs": [
    {
     "output_type": "stream",
     "name": "stdout",
     "text": [
      "a) 16\n"
     ]
    }
   ],
   "metadata": {}
  },
  {
   "cell_type": "code",
   "execution_count": 86,
   "source": [
    "import random as rnd\n",
    "import matplotlib.pyplot as plt\n",
    "\n",
    "values = [10,100,1000,10000,100000]\n",
    "indexnum=0\n",
    "for i in values:\n",
    "    dice[indexnum]=[rnd.randint(1,6) for x in range(i)]\n",
    "    indexnum+=1\n",
    "\n",
    "result= []\n",
    "indexnum=0\n",
    "for i in values: \n",
    "    outcomesix=0\n",
    "    for x in range(i):\n",
    "        if (dice[indexnum][x]==6):\n",
    "            outcomesix+=1\n",
    "    indexnum+=1\n",
    "\n",
    "    result.append(outcomesix)\n",
    "\n",
    "sum=0\n",
    "for i,j in zip(result,values) :\n",
    "    sum += float(i/j)\n",
    "\n",
    "probability = round(sum/len(result),2)\n",
    "print(f\"The probability of a 6 outcome is {probability}\")\n",
    "\n",
    "\n",
    "plt.plot(values,result)\n",
    "plt.show()\n",
    "\n"
   ],
   "outputs": [
    {
     "output_type": "stream",
     "name": "stdout",
     "text": [
      "The probability of a 6 outcome is 0.15\n"
     ]
    },
    {
     "output_type": "display_data",
     "data": {
      "image/png": "[encoded data removed]",
      "text/plain": [
       "<Figure size 432x288 with 1 Axes>"
      ]
     },
     "metadata": {
      "needs_background": "light"
     }
    }
   ],
   "metadata": {}
  }
 ],
 "metadata": {
  "orig_nbformat": 4,
  "language_info": {
   "name": "python",
   "version": "3.8.2",
   "mimetype": "text/x-python",
   "codemirror_mode": {
    "name": "ipython",
    "version": 3
   },
   "pygments_lexer": "ipython3",
   "nbconvert_exporter": "python",
   "file_extension": ".py"
  },
  "kernelspec": {
   "name": "python3",
   "display_name": "Python 3.8.2 64-bit ('python-programming-SAMI-FATMI-twlN9kEV': pipenv)"
  },
  "interpreter": {
   "hash": "e8c0f5da3a3a620c9e1b027d387145a2dbb6c76352a80070026223519564da83"
  }
 },
 "nbformat": 4,
 "nbformat_minor": 2
}