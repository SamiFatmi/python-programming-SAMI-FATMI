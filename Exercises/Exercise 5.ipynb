{
 "cells": [
  {
   "cell_type": "markdown",
   "source": [
    "\n",
    "1. Counting letters (*)\n",
    "Let the user input a word:\n",
    "  a)   print out the number of letters in the word. (*)\n",
    "  b)   print out the number of uppercase and lowercase letters of the word (*)"
   ],
   "metadata": {}
  },
  {
   "cell_type": "code",
   "execution_count": 3,
   "source": [
    "word = input(\"Enter a word\")\n",
    "print(f\"a) {len(word)}\")\n",
    "\n",
    "uppercount=0\n",
    "lowercount=0\n",
    "for x in word:\n",
    "    if x.isupper() : \n",
    "        uppercount+=1\n",
    "    else:\n",
    "        lowercount+=1\n",
    "\n",
    "print(f\"b) {word} has {uppercount} uppercase letters and {lowercount} lowercase letters.\")"
   ],
   "outputs": [
    {
     "output_type": "stream",
     "name": "stdout",
     "text": [
      "a) 14\n",
      "b) SAasfijjifaASD has 5 uppercase letters and 9 lowercase letters.\n"
     ]
    }
   ],
   "metadata": {}
  },
  {
   "cell_type": "markdown",
   "source": [
    "2. Counting words (*)\n",
    "Count the number of words in this sentence: \"A picture says more than a thousand words, a matematical formula says more than a thousand pictures.\" (*)"
   ],
   "metadata": {}
  },
  {
   "cell_type": "code",
   "execution_count": 5,
   "source": [
    "sentence = \"A picture says more than a thousand words, a matematical formula says more than a thousand pictures.\"\n",
    "print(f\"this sentence has {len(sentence.split())} words\")"
   ],
   "outputs": [
    {
     "output_type": "stream",
     "name": "stdout",
     "text": [
      "this sentence has 17 words\n"
     ]
    }
   ],
   "metadata": {}
  },
  {
   "cell_type": "markdown",
   "source": [
    "3. A palindrome is a sequence of characters that is the same, when read forward as backwards (ignoring spaces). For example:\n",
    "\"Anna\" is a palindrome\n",
    "\"Ni talar bra latin\"\n",
    "bjkjb\n",
    "Let the user input a sequence of characters and check if it is a palindrome. (*)"
   ],
   "metadata": {}
  },
  {
   "cell_type": "code",
   "execution_count": 25,
   "source": [
    "sequence = input(\"Please enter your a sequence of characters\")\n",
    "\n",
    "\n",
    "nospaces=sequence.replace(\" \",\"\")\n",
    "nospaces=nospaces.lower()\n",
    "\n",
    "Palindrom=True\n",
    "\n",
    "for x in range(int(len(nospaces)/2)):\n",
    "    if nospaces[x]!=nospaces[len(nospaces)-x-1]:\n",
    "        Palindrom=False\n",
    "\n",
    "if Palindrom : \n",
    "    print(f\"The sequence '{sequence}' is actually a palindrome \")\n",
    "else :\n",
    "    print(f\"The sequence '{sequence}' is not a palindrome\")\n",
    "    \n"
   ],
   "outputs": [
    {
     "output_type": "stream",
     "name": "stdout",
     "text": [
      "The sequence 'Samimas' is actually a palindrome \n"
     ]
    }
   ],
   "metadata": {}
  },
  {
   "cell_type": "markdown",
   "source": [
    "4. Vowels (**)\n",
    "Count the number of vowels in this sentence: \"Pure mathematics is, in its way, the poetry of logical ideas\""
   ],
   "metadata": {}
  },
  {
   "cell_type": "code",
   "execution_count": 30,
   "source": [
    "vowels = [\"a\",\"e\",\"i\",\"o\",\"u\",\"y\"]\n",
    "sentence = \"Pure mathematics is, in its way, the poetry of logical ideas\"\n",
    "\n",
    "lowercases = sentence.lower()\n",
    "vowelcount=0\n",
    "ycount=0\n",
    "\n",
    "for x in lowercases:\n",
    "    for y in vowels:\n",
    "        if x==y:\n",
    "            vowelcount+=1\n",
    "    if x==\"y\":\n",
    "        ycount+=1\n",
    "\n",
    "\n",
    "print(f\"If you think the Y is a vowel, then the sentence has {vowelcount} vowels, otherwise it has {vowelcount- ycount} vowels\")\n"
   ],
   "outputs": [
    {
     "output_type": "stream",
     "name": "stdout",
     "text": [
      "If you think the Y is a vowel, then the sentence has 22 vowels, otherwise it has 20 vowels\n"
     ]
    }
   ],
   "metadata": {}
  },
  {
   "cell_type": "markdown",
   "source": [
    "\n",
    "5. Encryption (**)\n",
    "Let the user input a word and:\n",
    "  a)   encrypt the message by replacing each letter with the next letter. If the letter is in the end of the alphabet, use the first letter instead.\n",
    "e.g. in Swedish: \"höst\" $\\rightarrow$ \"iatu\"\n",
    "  b)   decrypt the message\n",
    "  c)   let the user choose either encryption or decryption."
   ],
   "metadata": {}
  },
  {
   "cell_type": "code",
   "execution_count": 72,
   "source": [
    "word = input(\"Please enter a word\")\n",
    "incryptedword =\"\"\n",
    "\n",
    "for x in range(len(word)):\n",
    "    if ( ord(word[x])>=97 and ord(word[x])<122 ) or (( ord(word[x])>=65 and ord(word[x])<90 ) ):\n",
    "        incryptedword+=chr(ord(word[x])+1)\n",
    "    elif ord(word[x])==122:\n",
    "        incryptedword+=chr(229)\n",
    "    elif ord(word[x])==229:\n",
    "        incryptedword+=chr(228)\n",
    "    elif ord(word[x])==228:\n",
    "        incryptedword+=chr(246)\n",
    "    elif ord(word[x])==246:\n",
    "        incryptedword+=chr(97) \n",
    "    elif ord(word[x])==90:\n",
    "        incryptedword+=chr(197)\n",
    "    elif ord(word[x])==197:\n",
    "        incryptedword+=chr(196)\n",
    "    elif ord(word[x])==196:\n",
    "        incryptedword+=chr(214)\n",
    "    elif ord(word[x])==214:\n",
    "        incryptedword+=chr(65)\n",
    "\n",
    "print(incryptedword)\n",
    "    "
   ],
   "outputs": [
    {
     "output_type": "stream",
     "name": "stdout",
     "text": [
      "Åpvcbm\n"
     ]
    }
   ],
   "metadata": {}
  }
 ],
 "metadata": {
  "orig_nbformat": 4,
  "language_info": {
   "name": "python",
   "version": "3.8.2",
   "mimetype": "text/x-python",
   "codemirror_mode": {
    "name": "ipython",
    "version": 3
   },
   "pygments_lexer": "ipython3",
   "nbconvert_exporter": "python",
   "file_extension": ".py"
  },
  "kernelspec": {
   "name": "python3",
   "display_name": "Python 3.8.2 64-bit ('python-programming-SAMI-FATMI-twlN9kEV': pipenv)"
  },
  "interpreter": {
   "hash": "e8c0f5da3a3a620c9e1b027d387145a2dbb6c76352a80070026223519564da83"
  }
 },
 "nbformat": 4,
 "nbformat_minor": 2
}