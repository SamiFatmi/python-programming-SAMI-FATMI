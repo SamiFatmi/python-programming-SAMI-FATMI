{
 "cells": [
  {
   "cell_type": "markdown",
   "source": [
    "1. Area (*)\n",
    "Create a function that takes the base and height of a triangle as input parameters and returns the area of the triangle."
   ],
   "metadata": {}
  },
  {
   "cell_type": "code",
   "execution_count": 2,
   "source": [
    "def area(base,height):\n",
    "    return(height*base/2)\n",
    "\n",
    "print(area(2,2))"
   ],
   "outputs": [
    {
     "output_type": "stream",
     "name": "stdout",
     "text": [
      "2.0\n"
     ]
    }
   ],
   "metadata": {}
  },
  {
   "cell_type": "markdown",
   "source": [
    "\n",
    "2. Euclidean distance (*)\n",
    "\n",
    "The formula for Euclidean distance in 2D between $P: (p_1, p_2)$ and $Q: (q_1, q_2)$ is:\n",
    "$d(P,Q) = \\sqrt{(p_1-q_1)^2 + (p_2-q_2)^2}$\n",
    "  \n",
    "  a)   Create a function that takes two points as input parameters and return the Euclidean between them. (*)\n",
    "  \n",
    "  b)   Let the user input two points. Call the function using the users input points. (*)\n",
    "  \n",
    "  c)   Use your function to calculate distances between the origin (0, 0) and each of these points: (10, 3), (-1, -9), (10, -10), (4, -2), (9, -10). (*)"
   ],
   "metadata": {}
  },
  {
   "cell_type": "code",
   "execution_count": 17,
   "source": [
    "def euc(p1,p2):\n",
    "    return (round(pow(pow(p1[0]-p2[0],2)+pow(p1[1]-p2[1],2),0.5),2))\n",
    "\n",
    "print(\"Please enter the coordinates of the first point\")\n",
    "for i in (0,1):\n",
    "    P.insert(i,int(input(\"\")))\n",
    "\n",
    "print(\"Please enter the coordinates of the second point\")\n",
    "for i in range(2):\n",
    "    Q.insert(i,int(input(\"\")))\n",
    "\n",
    "print(f\"The euclidian distanc is equal to : {euc(P,Q)}\")\n",
    "\n",
    "\n",
    "\n"
   ],
   "outputs": [
    {
     "output_type": "stream",
     "name": "stdout",
     "text": [
      "Please enter the coordinates of the first point\n",
      "Please enter the coordinates of the second point\n",
      "The euclidian distanc is equal to : 14.76\n"
     ]
    }
   ],
   "metadata": {}
  },
  {
   "cell_type": "code",
   "execution_count": 18,
   "source": [
    "def euc(p1,p2):\n",
    "    return (round(pow(pow(p1[0]-p2[0],2)+pow(p1[1]-p2[1],2),0.5),2))\n",
    "\n",
    "points = [(10, 3), (-1, -9), (10, -10), (4, -2), (9, -10)]\n",
    "origin = (0,0)\n",
    "\n",
    "for x in points :\n",
    "        print(euc(x,origin))"
   ],
   "outputs": [
    {
     "output_type": "stream",
     "name": "stdout",
     "text": [
      "10.44\n",
      "9.06\n",
      "14.14\n",
      "4.47\n",
      "13.45\n"
     ]
    }
   ],
   "metadata": {}
  },
  {
   "cell_type": "markdown",
   "source": [
    "3. Mathematical functions (*)\n",
    "Make the following functions with def or lambda and plot their graphs in the same figure window, with $x\\in [-10,10]$ :\n",
    "  a)    $f(x) = x^2 -3$ (*)\n",
    "  b)   $g(x) = 4x-7$ (*)\n",
    "What could the relation between $f(x)$ and $g(x)$ be?\n"
   ],
   "metadata": {}
  },
  {
   "cell_type": "code",
   "execution_count": 21,
   "source": [
    "import matplotlib.pyplot as plt\n",
    "\n",
    "f = lambda x:x**2-3 \n",
    "g = lambda x:4*x-7 \n",
    "\n",
    "plt.plot(range(-10, 11),[f(x) for x in range(-10,11,1)])\n",
    "plt.plot(range(-10, 11),[g(x) for x in range(-10,11,1)])\n",
    "plt.show()\n",
    "\n"
   ],
   "outputs": [
    {
     "output_type": "display_data",
     "data": {
      "image/png": "[encoded data removed]",
      "text/plain": [
       "<Figure size 432x288 with 1 Axes>"
      ]
     },
     "metadata": {
      "needs_background": "light"
     }
    }
   ],
   "metadata": {}
  },
  {
   "cell_type": "markdown",
   "source": [
    "4. Name cleaner (*)\n",
    "Create a function that takes a name as an input and:\n",
    "removes all leading and trailing blank spaces\n",
    "make capitalize the first character of each name, and make the rest lowercase\n",
    "Use your function on this list of strings:\n",
    "[\"  MaRcUs \", \" iDA aNderSon\", \"OLOF Olofsson            \"  ]"
   ],
   "metadata": {}
  },
  {
   "cell_type": "code",
   "execution_count": 93,
   "source": [
    "def clean(x):\n",
    "    x=x.strip()\n",
    "    x=x.lower()\n",
    "    x=x.split()\n",
    "\n",
    "    for i in range(len(x)):\n",
    "        x[i]=x[i].capitalize()\n",
    "\n",
    "    x = \" \".join(x)\n",
    "    return x\n",
    "\n",
    "wordlist = [\"  MaRcUs \", \" iDA aNderSon\", \"OLOF Olofsson            \"  ]\n",
    "\n",
    "cleanlist=[]\n",
    "\n",
    "for i in range(len(wordlist)):\n",
    "    cleanlist.append(clean(wordlist[i]))\n",
    "\n",
    "print(cleanlist)\n"
   ],
   "outputs": [
    {
     "output_type": "stream",
     "name": "stdout",
     "text": [
      "['Marcus', 'Ida Anderson', 'Olof Olofsson']\n"
     ]
    }
   ],
   "metadata": {}
  },
  {
   "cell_type": "markdown",
   "source": [
    "5. Change (**)\n",
    "Create a function that takes a value as input parameter and print out the banknotes and coins in Swedish currency representing this value. For example 5289 would give the following printout:\n",
    "5st 1000-lapp\n",
    "1st 200-lapp\n",
    "1st 50-lapp\n",
    "1st 20-lapp\n",
    "1st 10-krona\n",
    "1st 5-krona\n",
    "2st 2-krona\n",
    "Now let the user input a value, and use the function to calculate the change."
   ],
   "metadata": {}
  },
  {
   "cell_type": "code",
   "execution_count": 119,
   "source": [
    "def change(amount):\n",
    "    banknotes=[1000,200,50,20,10,5,2]\n",
    "    result=[[0 for x in range(2)] for y in range(7)]\n",
    "    for i in range(len(banknotes)):\n",
    "        result[i][0]=int(amount/banknotes[i])\n",
    "        result[i][1]=banknotes[i]\n",
    "        amount=amount%banknotes[i]\n",
    "    for i in range(len(result)) :\n",
    "        if result[i][0]!=0:\n",
    "            if result[i][1]>10:\n",
    "                print(f\"{result[i][0]}st {result[i][1]}-lapp\") \n",
    "            else:   \n",
    "                print(f\"{result[i][0]}st {result[i][1]}-krona\") \n",
    "    \n",
    "\n",
    "\n",
    "amount= int(input(\"Please enter an amount\"))\n",
    "change(amount)\n"
   ],
   "outputs": [
    {
     "output_type": "stream",
     "name": "stdout",
     "text": [
      "5st 1000-lapp\n",
      "1st 200-lapp\n",
      "1st 50-lapp\n",
      "1st 20-lapp\n",
      "1st 10-krona\n",
      "1st 5-krona\n",
      "2st 2-krona\n"
     ]
    }
   ],
   "metadata": {}
  },
  {
   "cell_type": "markdown",
   "source": [],
   "metadata": {}
  }
 ],
 "metadata": {
  "orig_nbformat": 4,
  "language_info": {
   "name": "python",
   "version": "3.8.2",
   "mimetype": "text/x-python",
   "codemirror_mode": {
    "name": "ipython",
    "version": 3
   },
   "pygments_lexer": "ipython3",
   "nbconvert_exporter": "python",
   "file_extension": ".py"
  },
  "kernelspec": {
   "name": "python3",
   "display_name": "Python 3.8.2 64-bit ('python-programming-SAMI-FATMI-twlN9kEV': pipenv)"
  },
  "interpreter": {
   "hash": "e8c0f5da3a3a620c9e1b027d387145a2dbb6c76352a80070026223519564da83"
  }
 },
 "nbformat": 4,
 "nbformat_minor": 2
}