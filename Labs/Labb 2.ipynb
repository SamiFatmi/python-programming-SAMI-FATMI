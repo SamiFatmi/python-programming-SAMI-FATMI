{
 "cells": [
  {
   "cell_type": "markdown",
   "source": [
    "# Lab 2 :\n",
    "\n",
    "Syftet med den här laborationen är att använda verktygen du lärt dig i Python för att implementera en förenklad maskininlärningsalgoritm.\n",
    "\n",
    "I den här laborationen finns (simulerad) data på Pichus och Pikachus längder och bredder. Du ska skapa en algoritm som baserat på den givna datan kunna avgöra om en ny data ska klassificeras som Pichu eller Pikachu."
   ],
   "metadata": {}
  },
  {
   "cell_type": "code",
   "execution_count": 23,
   "source": [
    "def read_file(filepath):                    #function that reads the content of a file, input is the path of the file\n",
    "    with open(filepath,\"r\") as f:\n",
    "        content= f.read()\n",
    "    return content                                  # function returns a string\n",
    "\n",
    "def coordinates_in_file(filepath):                  #function for cleaning the content, input is the file path\n",
    "    raw_content=repr(read_file(filepath))           # uses the file path to read the content\n",
    "    unwanted_strings=[\" \",\"'\",\"(\",\")\"]              # list of the unwanted characters and spaces\n",
    "\n",
    "    for unwanted_string in unwanted_strings :       #looping through the unwanted strings list to clean the text\n",
    "        raw_content=raw_content.replace(unwanted_string,\"\")\n",
    "\n",
    "    clean_content=raw_content.replace(r\"\\n\",\",\")    #making sure each item in the text is seperated by a \",\"\n",
    "    clean_list=clean_content.split(\",\")             #splitting by at each \",\"\n",
    "\n",
    "    list_of_coordinates=[float(item) for item in clean_list if item!=\"\" and item[0].isdigit()]      #creating a list of coordinates only, ignoring empty space and text\n",
    "    # putting X coordinates and Y coordinates in different lists\n",
    "    X_axis=[list_of_coordinates[index] for index in range(len(list_of_coordinates)) if index%2==0]  \n",
    "    Y_axis=[list_of_coordinates[index] for index in range(len(list_of_coordinates)) if index%2!=0]\n",
    "\n",
    "    coordinates=[X_axis,Y_axis] #gathering both X and Y coordinates in the same list for being returned\n",
    "\n",
    "    return coordinates #returns a list of 2 lists, index[0] is the list of X coordinates, index [1] is the Y coordinates\n"
   ],
   "outputs": [],
   "metadata": {}
  },
  {
   "cell_type": "code",
   "execution_count": 24,
   "source": [
    "import matplotlib.pyplot as plt\n",
    "\n",
    "#file paths\n",
    "path_test_points=\"files/test_points.txt\"\n",
    "path_pikachu=\"files/pikachu.txt\"\n",
    "path_pichu=\"files/pichu.txt\"\n",
    "\n",
    "#reading and cleaning the coordinates of each file\n",
    "coordinates_pichu = coordinates_in_file(path_pichu)\n",
    "coordinates_pikachu = coordinates_in_file(path_pikachu)\n",
    "coordinates_test_points = coordinates_in_file(path_test_points)\n",
    "\n",
    "#creating 2 lists : width and height, for each file\n",
    "#pichu file\n",
    "width_pichu=coordinates_pichu[0]\n",
    "height_pichu=coordinates_pichu[1]\n",
    "#pikachu file\n",
    "width_pikachu=coordinates_pikachu[0]\n",
    "height_pikachu=coordinates_pikachu[1]\n",
    "# test points file\n",
    "width_test_points=coordinates_test_points[0]\n",
    "height_test_points=coordinates_test_points[1]\n",
    "\n",
    "#plotting out the results\n",
    "plt.figure()\n",
    "plt.scatter(width_pichu,height_pichu,marker=\"s\",label=\"Pichu\")\n",
    "plt.scatter(width_pikachu,height_pikachu,marker=\"*\",label=\"Pikachu\")\n",
    "plt.scatter(width_test_points,height_test_points,marker=\"^\",label=\"Test Points\")\n",
    "plt.legend(loc=\"lower right\")\n",
    "\n",
    "plt.show()"
   ],
   "outputs": [
    {
     "output_type": "display_data",
     "data": {
      "image/png": "[encoded data removed]",
      "text/plain": [
       "<Figure size 432x288 with 1 Axes>"
      ]
     },
     "metadata": {
      "needs_background": "light"
     }
    }
   ],
   "metadata": {}
  },
  {
   "cell_type": "code",
   "execution_count": 25,
   "source": [
    "def distance(A,B):  #function to calculate the euclidian distance, input arguments are 2 lists of 2 floats or integers each.\n",
    "    return (((A[0]-B[0])**2+(A[1]-B[1])**2)**0.5) #returns a float\n",
    "\n",
    "# checking the distance between each test point and all pichu and pikachu points\n",
    "for i,j in zip(width_test_points,height_test_points): \n",
    "    all_distances=[]                                        #list that will contain lists of all distances calculated and name of the pokemon in this format [[distance,\"Pokemon\"],[distance,\"Pokemon\"],[distance,\"pokemon\"],..]\n",
    "    X=[i,j]\n",
    "    for k,l in zip(width_pichu,height_pichu):\n",
    "        Y=[k,l]              \n",
    "        all_distances.append([distance(X,Y),\"Pichu\"])\n",
    "    for k,l in zip(width_pikachu,height_pikachu):\n",
    "        Y=[k,l]\n",
    "        all_distances.append([distance(X,Y),\"Pikachu\"])\n",
    "\n",
    "    all_distances.sort()        #list gets sorted by first items of the inner lists\n",
    "    print(f\"Sample with (width,height) : ({i},{j}) is classified to be {all_distances[0][1]}\")  #printing out the name of the pikachu with lowest distance to the test point, then the loop checks the next test point"
   ],
   "outputs": [
    {
     "output_type": "stream",
     "name": "stdout",
     "text": [
      "Sample with (width,height) : (25.0,35.0) is classified to be Pikachu\n",
      "Sample with (width,height) : (15.0,14.0) is classified to be Pichu\n",
      "Sample with (width,height) : (26.0,30.0) is classified to be Pichu\n",
      "Sample with (width,height) : (22.0,45.0) is classified to be Pikachu\n"
     ]
    }
   ],
   "metadata": {}
  },
  {
   "cell_type": "markdown",
   "source": [
    "- 1. Låt användaren mata in en testpunkt och avgör om den dess klass. Ta med felhanteringen som tar hand om negativa tal och icke-numeriska inputs. Se till att ha användarvänliga felmeddelanden.\n"
   ],
   "metadata": {}
  },
  {
   "cell_type": "code",
   "execution_count": 40,
   "source": [
    "def ask_for_number(): # function for asking for a number and trying for errors\n",
    "    while True:\n",
    "        try :\n",
    "            number=float(input(\"Please enter the width of your pokemon : \"))  \n",
    "            if number==0 :\n",
    "                raise ValueError(f\"Width or height cannot be 0\")  \n",
    "            if number<0:    #checking if number is negative\n",
    "                raise ValueError(f\"Please enter {abs(number)} instead\")  \n",
    "            break   #if number not negative and it could be turned into a float with no error, we break out of the the While loop\n",
    "        except ValueError as errorrr :\n",
    "            print(errorrr)\n",
    "    return number   #returns a float\n"
   ],
   "outputs": [],
   "metadata": {}
  },
  {
   "cell_type": "markdown",
   "source": [
    "- 2. Den approachen vi använt med närmaste punkten kan klassificera fel när punkterna för respektive klass går in i varandra. Nu ska du istället välja de fem närmaste punkterna till din testpunkt. Den klass testpunkten tillhör avgörs av majoritetsklassen av de närmaste punkterna.\n"
   ],
   "metadata": {}
  },
  {
   "cell_type": "code",
   "execution_count": 41,
   "source": [
    "\n",
    "def finding_the_closest(point,checking):                # function for finding the closest pokemon, arguments are a point (a list of 2 coordinates) and the number of closest points we will be checking\n",
    "    all_distances=[]\n",
    "    for i,j,k,l in zip(width_pichu,height_pichu,width_pikachu,height_pikachu):  #comparing the point to both a pikachu and a pichu point at a time\n",
    "        if distance(point,[i,j])!=0:                                            #checking if we are not already testing a pichu point, would help us at the end while checking the accuracy of each point\n",
    "            all_distances.append([distance(point,[i,j]),\"Pichu\"])\n",
    "        if distance(point,[i,j])!=0:\n",
    "            all_distances.append([distance(point,[k,l]),\"Pikachu\"])\n",
    "\n",
    "    all_distances.sort()                                                        #sorting the distances\n",
    "    closest_pokemons=[pokemon[1] for pokemon in all_distances[:checking]]       #creating a list of the names of the X closest pokemons, where X is the second argument of the function.                                               \n",
    "    \n",
    "    if closest_pokemons.count(\"Pichu\")>checking//2 :                            #checking and returning the closest pokemon\n",
    "        return(\"Pichu\")\n",
    "    else:\n",
    "        return(\"Pikachu\")\n",
    "\n",
    "\n",
    "X=[ask_for_number() for i in range(2) ]                                         #Getting the coordinates of the point X from the user\n",
    "\n",
    "print(f\"The pokemon you entered is a :  {finding_the_closest(X,5)}\")                                                 #printing out the pokemon it can be, based on testing the 5 closest pokemons\n"
   ],
   "outputs": [
    {
     "output_type": "stream",
     "name": "stdout",
     "text": [
      "Please enter 1.0 instead\n",
      "Width or height cannot be 0\n",
      "Please enter 9.0 instead\n",
      "The pokemon you entered is a :  Pichu\n"
     ]
    }
   ],
   "metadata": {}
  },
  {
   "cell_type": "markdown",
   "source": [
    "\n",
    " 3. Dela in ursprungsdatan slumpmässigt så att:\n",
    "- 90 är träningsdata (45 Pikachu, 45 Pichu) \n",
    "- 10 är testdata (5 Pikachu, 5 Pichu)"
   ],
   "metadata": {}
  },
  {
   "cell_type": "code",
   "execution_count": 13,
   "source": [
    "import random as rnd \n",
    "\n",
    "# creating random indexes using sample() to avoid getting the same index twice\n",
    "random_indexes=rnd.sample(range(0,49),5) # https://stackoverflow.com/questions/22842289/generate-n-unique-random-numbers-within-a-range\n",
    "\n",
    "#creating lists for random test points and training points coordinates for both pokemons\n",
    "#decided to create new lists instead of just removing the test points from the original list and putting only them in a new one to avoid losing data, since the program would remove 5 more items from the original list everytime we run this part of the code\n",
    "#width and height of the random points of Pichu\n",
    "width_random_points_pichu=[width_pichu[i] for i in range (50) if i in random_indexes]\n",
    "height_random_points_pichu=[height_pichu[i] for i in range (50) if i in random_indexes]\n",
    "#width and height of the random points of Pikachu\n",
    "width_random_points_pikachu=[width_pikachu[i] for i in range(50) if i in random_indexes]\n",
    "height_random_points_pikachu=[height_pikachu[i] for i in range(50) if i in random_indexes]\n",
    "#width and height of the training points of Pichu\n",
    "width_training_points_pichu=[width_pichu[i] for i in range(50) if i not in random_indexes]\n",
    "height_training_points_pichu=[height_pichu[i] for i in range(50) if i not in random_indexes]\n",
    "#width and height of the training points of Pikachu\n",
    "width_training_points_pikachu=[width_pikachu[i] for i in range(50) if i not in random_indexes]\n",
    "height_training_points_pikachu=[height_pikachu[i] for i in range(50) if i not in random_indexes]\n",
    "\n",
    "\n",
    "plt.figure()\n",
    "plt.scatter(width_training_points_pichu,height_training_points_pichu, marker=\"x\",label=\"Pichu\")\n",
    "plt.scatter(width_training_points_pikachu,height_training_points_pikachu,marker=\"+\",label=\"Pikachu\")\n",
    "plt.scatter(width_random_points_pichu,height_random_points_pichu,marker=\"X\",label=\"Test - Pichu\")\n",
    "plt.scatter(width_random_points_pikachu,height_random_points_pikachu,marker=\"P\",label=\"Test - Pikachu\")\n",
    "\n",
    "plt.legend(loc=\"lower right\")\n",
    "plt.show()"
   ],
   "outputs": [
    {
     "output_type": "display_data",
     "data": {
      "image/png": "[encoded data removed]",
      "text/plain": [
       "<Figure size 432x288 with 1 Axes>"
      ]
     },
     "metadata": {
      "needs_background": "light"
     }
    }
   ],
   "metadata": {}
  },
  {
   "cell_type": "markdown",
   "source": [
    "4. Beräkna noggranheten :"
   ],
   "metadata": {}
  },
  {
   "cell_type": "code",
   "execution_count": 21,
   "source": [
    "#checking the accuracy of figuring out which pokemon the randomly chosen points belong to according to our algorithm\n",
    "#creating a list for each parameter that will get an item=1 every time the condition is verified\n",
    "#parameter = sum of the list, means the number of times the condition for that parameter was verified\n",
    "\n",
    "TP =sum([1 for i,j in zip(width_random_points_pikachu,height_random_points_pikachu) if finding_the_closest([i,j],5)==\"Pikachu\"])\n",
    "FP =sum([1 for i,j in zip(width_random_points_pikachu,height_random_points_pikachu) if finding_the_closest([i,j],5)!=\"Pikachu\"])\n",
    "TN =sum([1 for i,j in zip(width_random_points_pichu,height_random_points_pichu) if finding_the_closest([i,j],5)==\"Pichu\"])\n",
    "FN =sum([1 for i,j in zip(width_random_points_pichu,height_random_points_pichu) if finding_the_closest([i,j],5)!=\"Pichu\"])\n",
    "\n",
    "print(f\"TP:{TP} | TN:{TN} | FP:{FP} | FN:{FN}\")\n",
    "print(f\"Accuracy for these 5 random numbers = {int(100*(TP+TN)/(TP+FP+TN+FN))}%\")"
   ],
   "outputs": [
    {
     "output_type": "stream",
     "name": "stdout",
     "text": [
      "TP:4 | TN:5 | FP:1 | FN:0\n",
      "Accuracy for these 5 random numbers = 90%\n"
     ]
    }
   ],
   "metadata": {}
  },
  {
   "cell_type": "code",
   "execution_count": 26,
   "source": [
    "#here we will try different numbers of close points and see which is lowest and fastest way to get the best accuracy.\n",
    "\n",
    "accuracy = 0                # initializing our variable for storing the final accuracy\n",
    "accuracies=[]               # here we will store all the accuracies so we can plot them\n",
    "points_checked=[]           # here we will have all the points checked and we will use them with the accuracies for plotting\n",
    "\n",
    "for number_points_to_check in range(1,100): #trying for all the possible numbers of closest points\n",
    "    #adding 1 to the list of True Positives if the point from the list Pikachu is recognized as Pikachu, and so on until filling all the lists of all parameters, then calculating the sum of each\n",
    "    TP =sum([1 for i,j in zip(width_pikachu,height_pikachu) if finding_the_closest([i,j],number_points_to_check)==\"Pikachu\"]) \n",
    "    FP =sum([1 for i,j in zip(width_pikachu,height_pikachu) if finding_the_closest([i,j],number_points_to_check)!=\"Pikachu\"])\n",
    "    TN =sum([1 for i,j in zip(width_pichu,height_pichu) if finding_the_closest([i,j],number_points_to_check)==\"Pichu\"])\n",
    "    FN =sum([1 for i,j in zip(width_pichu,height_pichu) if finding_the_closest([i,j],number_points_to_check)!=\"Pichu\"])\n",
    "    \n",
    "    current_accuracy=100*(TP+TN)/(TP+FP+TN+FN) #accuracy for the TP,TN,FP,FN parameters with the current number of closest points checked\n",
    "\n",
    "    #finding the best accuracy with minimum number of close points checked and keeping it to print it out when the loop is done\n",
    "    if accuracy<current_accuracy:\n",
    "        accuracy=current_accuracy\n",
    "        lowest_number_point_to_check=number_points_to_check\n",
    "    \n",
    "    #saving accuracies with number of points checked to be able to plot the result at the end\n",
    "    accuracies.append(current_accuracy)\n",
    "    points_checked.append(number_points_to_check)\n",
    "    \n",
    "    \n",
    "print(f\"The highest accuracy is {accuracy}% and it could be reached by testing the {lowest_number_point_to_check} closest points\")\n",
    "\n",
    "plt.figure()\n",
    "plt.plot(points_checked,accuracies)\n",
    "plt.xlabel(\"Number of closest points checked\")\n",
    "plt.ylabel(\"Accuracy\")\n",
    "\n",
    "plt.show()"
   ],
   "outputs": [
    {
     "output_type": "stream",
     "name": "stdout",
     "text": [
      "The highest accuracy is 100.0% and it could be reached by testing the 1 closest points\n"
     ]
    },
    {
     "output_type": "display_data",
     "data": {
      "image/png": "[encoded data removed]",
      "text/plain": [
       "<Figure size 432x288 with 1 Axes>"
      ]
     },
     "metadata": {
      "needs_background": "light"
     }
    }
   ],
   "metadata": {}
  }
 ],
 "metadata": {
  "orig_nbformat": 4,
  "language_info": {
   "name": "python",
   "version": "3.8.2",
   "mimetype": "text/x-python",
   "codemirror_mode": {
    "name": "ipython",
    "version": 3
   },
   "pygments_lexer": "ipython3",
   "nbconvert_exporter": "python",
   "file_extension": ".py"
  },
  "kernelspec": {
   "name": "python3",
   "display_name": "Python 3.8.2 64-bit ('python-programming-SAMI-FATMI-twlN9kEV': pipenv)"
  },
  "interpreter": {
   "hash": "e8c0f5da3a3a620c9e1b027d387145a2dbb6c76352a80070026223519564da83"
  }
 },
 "nbformat": 4,
 "nbformat_minor": 2
}