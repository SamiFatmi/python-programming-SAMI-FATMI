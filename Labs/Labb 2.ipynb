{
 "cells": [
  {
   "cell_type": "markdown",
   "source": [
    "# Lab 2 :\n",
    "\n",
    "Syftet med den här laborationen är att använda verktygen du lärt dig i Python för att implementera en förenklad maskininlärningsalgoritm.\n",
    "\n",
    "I den här laborationen finns (simulerad) data på Pichus och Pikachus längder och bredder. Du ska skapa en algoritm som baserat på den givna datan kunna avgöra om en ny data ska klassificeras som Pichu eller Pikachu."
   ],
   "metadata": {}
  },
  {
   "cell_type": "code",
   "execution_count": 19,
   "source": [
    "import matplotlib.pyplot as plt\n",
    "import numpy as np\n",
    "\n",
    "\n",
    "def read_file(path):\n",
    "    with open(path,\"r\") as p1:\n",
    "        content=p1.read()\n",
    "    return content  \n",
    "\n",
    "def clean_and_split(somelist):\n",
    "    somelist=somelist.split(\"\\n\")\n",
    "    \n",
    "    for i in range(len(somelist)):\n",
    "        somelist[i]=somelist[i].replace(\"(\",\"\")\n",
    "        somelist[i]=somelist[i].replace(\")\",\"\")\n",
    "        somelist[i]=somelist[i].split(\", \")\n",
    "    \n",
    "    for i in range(len(pichu)):\n",
    "        if pichu[i]==\"\" or pikachu[i][0]==\"\":\n",
    "            pichu.pop(i)\n",
    "\n",
    "    return somelist\n",
    "\n",
    "path_pichu=\"files/pichu.txt\"\n",
    "path_pika=\"files/pikachu.txt\"\n",
    "\n",
    "pichu=read_file(path_pichu)\n",
    "pikachu=read_file(path_pika)\n",
    "\n",
    "pichu=pichu.split(\"\\n\")\n",
    "    \n",
    "for i in range(len(pichu)):\n",
    "    pichu[i]=pichu[i].replace(\"(\",\"\")\n",
    "    pichu[i]=pichu[i].replace(\")\",\"\")\n",
    "    pichu[i]=pichu[i].split(\", \")\n",
    "    \n",
    "\n",
    "pikachu=pikachu.split(\"\\n\")\n",
    "\n",
    "for i in range(len(pichu)):\n",
    "    pikachu[i]=pikachu[i].replace(\"(\",\"\")\n",
    "    pikachu[i]=pikachu[i].replace(\")\",\"\")\n",
    "    pikachu[i]=pikachu[i].split(\", \")\n",
    "\n",
    "for i in range(len(pichu)):\n",
    "    if pichu[i]==\"\" or pikachu[i][0]==\"\":\n",
    "        pichu.pop(i)\n",
    "\n",
    "for i in range(len(pikachu)):\n",
    "    if pikachu[i]==\"\" or pikachu[i][0]==\"\":\n",
    "        pikachu.pop(i)\n",
    "\n",
    "pichu_width=[]\n",
    "pichu_height=[]\n",
    "for i in range(1,len(pichu)):\n",
    "    pichu_width.append(float(pichu[i][0]))\n",
    "    pichu_height.append(float(pichu[i][1]))\n",
    "\n",
    "pikachu_width=[]\n",
    "pikachu_height=[]\n",
    "for i in range(1,len(pikachu)):\n",
    "    pikachu_width.append(float(pikachu[i][0]))\n",
    "    pikachu_height.append(float(pikachu[i][1]))\n",
    "\n",
    "\n",
    "\n",
    "plt.scatter(pichu_width,pichu_height,marker=\"*\",label=\"Pichu\")\n",
    "plt.scatter(pikachu_width,pikachu_height,marker=\"^\",label=\"Pikachu\")\n",
    "plt.legend(loc=\"upper left\")\n",
    "plt.show()\n"
   ],
   "outputs": [
    {
     "output_type": "display_data",
     "data": {
      "image/png": "[encoded data removed]",
      "text/plain": [
       "<Figure size 432x288 with 1 Axes>"
      ]
     },
     "metadata": {
      "needs_background": "light"
     }
    }
   ],
   "metadata": {}
  },
  {
   "cell_type": "code",
   "execution_count": 73,
   "source": [
    "def distance(A,B):\n",
    "    return ((A[0]-B[0])**2+(A[1]-B[1])**2)**0.5\n",
    "\n",
    "X=[]\n",
    "for i in range(2):\n",
    "    X.append(float(input(\"\")))\n",
    "\n",
    "min_distance=1000000000\n",
    "pokemon=\"Pichu\"\n",
    "\n",
    "for i,j in zip(pichu_width,pichu_height):\n",
    "    Y=[i,j]\n",
    "    if distance(X,Y)<min_distance:\n",
    "        min_distance=distance(X,Y)\n",
    "\n",
    "for i,j in zip(pikachu_width,pikachu_height):\n",
    "    Y=[i,j]\n",
    "    if distance(X,Y)<min_distance:\n",
    "        min_distance=distance(X,Y)\n",
    "        pokemon=\"Pikachu\"\n",
    "\n",
    "print(\"This is a \",pokemon)"
   ],
   "outputs": [
    {
     "output_type": "stream",
     "name": "stdout",
     "text": [
      "This is a  Pikachu\n"
     ]
    }
   ],
   "metadata": {}
  },
  {
   "cell_type": "code",
   "execution_count": 85,
   "source": [
    "X=[] # X will contain the width and height entered by the user\n",
    "while True:\n",
    "    try :\n",
    "        width=input(\"Please enter the width of your pokemon : \")\n",
    "        width=float(width)\n",
    "        if not width>=0:\n",
    "            raise ValueError(\"Width can't be negative\")  \n",
    "        X.append(width)\n",
    "        break\n",
    "    except ValueError as errorrr :\n",
    "        print(errorrr)\n",
    "\n",
    "while True:\n",
    "    try :\n",
    "        width=input(\"Please enter the height of your pokemon : \")\n",
    "        width=float(width)\n",
    "        if not width>=0:\n",
    "            raise ValueError(\"Height can't be negative\")  \n",
    "        X.append(width)\n",
    "        break\n",
    "    except ValueError as errorrr :\n",
    "        print(errorrr)\n",
    "\n",
    "\n",
    "#print(X)"
   ],
   "outputs": [],
   "metadata": {}
  },
  {
   "cell_type": "code",
   "execution_count": 86,
   "source": [
    "all_distances=[] #We will calculate all distances between the point X and all other points and store distance in this list\n",
    "        \n",
    "\n",
    "for i,j in zip(pichu_width,pichu_height):\n",
    "    Y=[i,j] \n",
    "    inner_list=[]   # inner_list is a small list we will use to store the 2 coordinates of a point (width and height)\n",
    "    inner_list.append(distance(X,Y)) \n",
    "    inner_list.append(\"Pichu\") #next to the distance i wanna keep the name of the pokemon so that it's easy t\n",
    "    all_distances.append(inner_list) \n",
    "\n",
    "\n",
    "for i,j in zip(pikachu_width,pikachu_height):\n",
    "    Y=[i,j]\n",
    "    inner_list=[]\n",
    "    inner_list.append(distance(X,Y))\n",
    "    inner_list.append(\"Pikachu\")\n",
    "    all_distances.append(inner_list)\n",
    "\n",
    "all_distances.sort()\n",
    "closest=[]\n",
    "for i in range(5):\n",
    "    closest.append(all_distances[i][1])\n",
    "\n",
    "if (closest.count(\"Pikachu\"))>2:\n",
    "    print(\"This is a Pikachu\")\n",
    "else:\n",
    "    print(\"This is a Pichu\")"
   ],
   "outputs": [
    {
     "output_type": "stream",
     "name": "stdout",
     "text": [
      "This is a Pichu\n"
     ]
    }
   ],
   "metadata": {}
  },
  {
   "cell_type": "code",
   "execution_count": 91,
   "source": [
    "import random as rnd\n",
    "\n",
    "test_pichu=[]\n",
    "training_pichu=pichu\n",
    "\n",
    "for i in range(1,6):\n",
    "    random_variable = rnd.randint(1,len(training_pichu))\n",
    "    test_pichu.append(training_pichu[random_variable])\n",
    "    training_pichu.pop(random_variable)\n",
    "\n",
    "test_pikachu=[]\n",
    "training_pikachu = pikachu\n",
    "\n",
    "\n",
    "for i in range(1,6):\n",
    "    random_variable = rnd.randint(1,len(training_pikachu))\n",
    "    test_pikachu.append(training_pikachu[random_variable])\n",
    "    training_pikachu.pop(random_variable)\n",
    "\n",
    "print(test_pichu)\n",
    "print(\"\\n\")\n",
    "print(len(training_pichu))\n",
    "\n"
   ],
   "outputs": [
    {
     "output_type": "stream",
     "name": "stdout",
     "text": [
      "[['16.24383599849425', '28.14677880798478'], ['20.085475554115202', '34.71078377613618'], ['15.212287757470909', '30.569497437746463'], ['19.94815801891397', '30.095262936764644'], ['21.89365520248622', '25.90909412173794']]\n",
      "\n",
      "\n",
      "36\n"
     ]
    }
   ],
   "metadata": {}
  }
 ],
 "metadata": {
  "orig_nbformat": 4,
  "language_info": {
   "name": "python",
   "version": "3.8.2",
   "mimetype": "text/x-python",
   "codemirror_mode": {
    "name": "ipython",
    "version": 3
   },
   "pygments_lexer": "ipython3",
   "nbconvert_exporter": "python",
   "file_extension": ".py"
  },
  "kernelspec": {
   "name": "python3",
   "display_name": "Python 3.8.2 64-bit ('python-programming-SAMI-FATMI-twlN9kEV': pipenv)"
  },
  "interpreter": {
   "hash": "e8c0f5da3a3a620c9e1b027d387145a2dbb6c76352a80070026223519564da83"
  }
 },
 "nbformat": 4,
 "nbformat_minor": 2
}
