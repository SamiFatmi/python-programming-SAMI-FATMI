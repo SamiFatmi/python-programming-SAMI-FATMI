{
 "cells": [
  {
   "cell_type": "markdown",
   "source": [
    "# Lab 2 :\n",
    "\n",
    "Syftet med den här laborationen är att använda verktygen du lärt dig i Python för att implementera en förenklad maskininlärningsalgoritm.\n",
    "\n",
    "I den här laborationen finns (simulerad) data på Pichus och Pikachus längder och bredder. Du ska skapa en algoritm som baserat på den givna datan kunna avgöra om en ny data ska klassificeras som Pichu eller Pikachu."
   ],
   "metadata": {}
  },
  {
   "cell_type": "code",
   "execution_count": 3,
   "source": [
    "def read_file(filepath):                    \n",
    "    with open(filepath,\"r\") as f:\n",
    "        content= f.read()\n",
    "    return content                                  \n",
    "\n",
    "def coordinates_in_file(filepath):                  \n",
    "    raw_content=repr(read_file(filepath))           \n",
    "    unwanted_strings=[\" \",\"'\",\"(\",\")\"]              \n",
    "\n",
    "    for unwanted_string in unwanted_strings :       \n",
    "        raw_content=raw_content.replace(unwanted_string,\"\")\n",
    "\n",
    "    clean_content=raw_content.replace(r\"\\n\",\",\")    \n",
    "    clean_list=clean_content.split(\",\")             \n",
    "\n",
    "    list_of_coordinates=[float(item) for item in clean_list if item!=\"\" and item[0].isdigit()]      \n",
    "    \n",
    "    X_axis=[list_of_coordinates[index] for index in range(len(list_of_coordinates)) if index%2==0]  \n",
    "    Y_axis=[list_of_coordinates[index] for index in range(len(list_of_coordinates)) if index%2!=0]\n",
    "\n",
    "    coordinates=[X_axis,Y_axis] \n",
    "\n",
    "    return coordinates \n"
   ],
   "outputs": [],
   "metadata": {}
  },
  {
   "cell_type": "code",
   "execution_count": 4,
   "source": [
    "import matplotlib.pyplot as plt\n",
    "\n",
    "path_test_points=\"files/test_points.txt\"\n",
    "path_pikachu=\"files/pikachu.txt\"\n",
    "path_pichu=\"files/pichu.txt\"\n",
    "\n",
    "coordinates_pichu = coordinates_in_file(path_pichu)\n",
    "coordinates_pikachu = coordinates_in_file(path_pikachu)\n",
    "coordinates_test_points = coordinates_in_file(path_test_points)\n",
    "\n",
    "width_pichu=coordinates_pichu[0]\n",
    "height_pichu=coordinates_pichu[1]\n",
    "\n",
    "width_pikachu=coordinates_pikachu[0]\n",
    "height_pikachu=coordinates_pikachu[1]\n",
    "\n",
    "width_test_points=coordinates_test_points[0]\n",
    "height_test_points=coordinates_test_points[1]\n",
    "\n",
    "plt.figure()\n",
    "plt.scatter(width_pichu,height_pichu,marker=\"s\",label=\"Pichu\")\n",
    "plt.scatter(width_pikachu,height_pikachu,marker=\"*\",label=\"Pikachu\")\n",
    "plt.scatter(width_test_points,height_test_points,marker=\"^\",label=\"Test Points\")\n",
    "plt.legend(loc=\"lower right\")\n",
    "\n",
    "plt.show()"
   ],
   "outputs": [
    {
     "output_type": "display_data",
     "data": {
      "image/png": "[encoded data removed]",
      "text/plain": [
       "<Figure size 432x288 with 1 Axes>"
      ]
     },
     "metadata": {
      "needs_background": "light"
     }
    }
   ],
   "metadata": {}
  },
  {
   "cell_type": "code",
   "execution_count": 5,
   "source": [
    "def distance(A,B):  \n",
    "    return (((A[0]-B[0])**2+(A[1]-B[1])**2)**0.5) \n",
    "\n",
    "\n",
    "for i,j in zip(width_test_points,height_test_points): \n",
    "    all_distances=[]                                        \n",
    "    X=[i,j]\n",
    "    for k,l in zip(width_pichu,height_pichu):\n",
    "        Y=[k,l]              \n",
    "        all_distances.append([distance(X,Y),\"Pichu\"])\n",
    "    for k,l in zip(width_pikachu,height_pikachu):\n",
    "        Y=[k,l]\n",
    "        all_distances.append([distance(X,Y),\"Pikachu\"])\n",
    "\n",
    "    all_distances.sort()        \n",
    "    print(f\"Sample with (width,height) : ({i},{j}) is classified to be {all_distances[0][1]}\") "
   ],
   "outputs": [
    {
     "output_type": "stream",
     "name": "stdout",
     "text": [
      "Sample with (width,height) : (25.0,35.0) is classified to be Pikachu\n",
      "Sample with (width,height) : (15.0,14.0) is classified to be Pichu\n",
      "Sample with (width,height) : (26.0,30.0) is classified to be Pichu\n",
      "Sample with (width,height) : (22.0,45.0) is classified to be Pikachu\n"
     ]
    }
   ],
   "metadata": {}
  },
  {
   "cell_type": "code",
   "execution_count": 10,
   "source": [
    "def ask_for_number(): \n",
    "    while True:\n",
    "        try :\n",
    "            number=input(\"Please enter the width of your pokemon : \")\n",
    "            number=float(number)    \n",
    "            if not number>0:    \n",
    "                raise ValueError(f\"Please enter {abs(number)} instead\")  \n",
    "            break   \n",
    "        except ValueError as errorrr :\n",
    "            print(\"Please enter a valid number\")\n",
    "    return number   \n",
    "\n",
    "def finding_the_closest(point,checking):                \n",
    "    all_distances=[]\n",
    "    for i,j,k,l in zip(width_pichu,height_pichu,width_pikachu,height_pikachu):  \n",
    "        if distance(point,[i,j])!=0:                                            \n",
    "            all_distances.append([distance(point,[i,j]),\"Pichu\"])\n",
    "        if distance(point,[i,j])!=0:\n",
    "            all_distances.append([distance(point,[k,l]),\"Pikachu\"])\n",
    "\n",
    "    all_distances.sort()                                                       \n",
    "    closest_pokemons=[pokemon[1] for pokemon in all_distances[:checking]]                                                  \n",
    "    \n",
    "    if closest_pokemons.count(\"Pichu\")>checking/2 :                            \n",
    "        return(\"Pichu\")\n",
    "    else:\n",
    "        return(\"Pikachu\")\n",
    "\n",
    "\n",
    "X=[ask_for_number() for i in range(2) ]                                         \n",
    "\n",
    "print(f\"The pokemon you entered is a :  {finding_the_closest(X,5)}\")  "
   ],
   "outputs": [
    {
     "output_type": "stream",
     "name": "stdout",
     "text": [
      "The pokemon you entered is a :  Pichu\n"
     ]
    }
   ],
   "metadata": {}
  },
  {
   "cell_type": "code",
   "execution_count": 13,
   "source": [
    "import random as rnd \n",
    "\n",
    "\n",
    "random_indexes=rnd.sample(range(0,49),5) \n",
    "\n",
    "width_random_points_pichu=[width_pichu[i] for i in range (50) if i in random_indexes]\n",
    "height_random_points_pichu=[height_pichu[i] for i in range (50) if i in random_indexes]\n",
    "\n",
    "width_random_points_pikachu=[width_pikachu[i] for i in range(50) if i in random_indexes]\n",
    "height_random_points_pikachu=[height_pikachu[i] for i in range(50) if i in random_indexes]\n",
    "\n",
    "width_training_points_pichu=[width_pichu[i] for i in range(50) if i not in random_indexes]\n",
    "height_training_points_pichu=[height_pichu[i] for i in range(50) if i not in random_indexes]\n",
    "\n",
    "width_training_points_pikachu=[width_pikachu[i] for i in range(50) if i not in random_indexes]\n",
    "height_training_points_pikachu=[height_pikachu[i] for i in range(50) if i not in random_indexes]\n",
    "\n",
    "\n",
    "plt.figure()\n",
    "plt.scatter(width_training_points_pichu,height_training_points_pichu, marker=\"x\",label=\"Pichu\")\n",
    "plt.scatter(width_training_points_pikachu,height_training_points_pikachu,marker=\"+\",label=\"Pikachu\")\n",
    "plt.scatter(width_random_points_pichu,height_random_points_pichu,marker=\"X\",label=\"Test - Pichu\")\n",
    "plt.scatter(width_random_points_pikachu,height_random_points_pikachu,marker=\"P\",label=\"Test - Pikachu\")\n",
    "\n",
    "plt.legend(loc=\"lower right\")\n",
    "plt.show()"
   ],
   "outputs": [
    {
     "output_type": "display_data",
     "data": {
      "image/png": "[encoded data removed]",
      "text/plain": [
       "<Figure size 432x288 with 1 Axes>"
      ]
     },
     "metadata": {
      "needs_background": "light"
     }
    }
   ],
   "metadata": {}
  },
  {
   "cell_type": "code",
   "execution_count": 15,
   "source": [
    "\n",
    "TP =sum([1 for i,j in zip(width_random_points_pikachu,height_random_points_pikachu) if finding_the_closest([i,j],5)==\"Pikachu\"])\n",
    "FP =sum([1 for i,j in zip(width_random_points_pikachu,height_random_points_pikachu) if finding_the_closest([i,j],5)!=\"Pikachu\"])\n",
    "TN =sum([1 for i,j in zip(width_random_points_pichu,height_random_points_pichu) if finding_the_closest([i,j],5)==\"Pichu\"])\n",
    "FN =sum([1 for i,j in zip(width_random_points_pichu,height_random_points_pichu) if finding_the_closest([i,j],5)!=\"Pichu\"])\n",
    "\n",
    "print(f\"TP:{TP} | TN:{TN} | FP:{FP} | FN:{FN}\")\n",
    "print(f\"Accuracy for these 5 random numbers = {int(100*(TP+TN)/(TP+FP+TN+FN))}%\")"
   ],
   "outputs": [
    {
     "output_type": "stream",
     "name": "stdout",
     "text": [
      "TP:4 | TN:5 | FP:1 | FN:0\n",
      "Accuracy for these 5 random numbers = 90%\n"
     ]
    }
   ],
   "metadata": {}
  },
  {
   "cell_type": "code",
   "execution_count": 11,
   "source": [
    "accuracy = 0\n",
    "accuracies=[]\n",
    "points_checked=[]\n",
    "\n",
    "for number_points_to_check in range(1,99): \n",
    "    TP = 0 \n",
    "    FP = 0 \n",
    "    TN = 0 \n",
    "    FN = 0 \n",
    "    for i in range(50): \n",
    "        if finding_the_closest([width_pikachu[i],height_pikachu[i]],number_points_to_check)==\"Pikachu\":\n",
    "            TP+=1\n",
    "        else:\n",
    "            FN+=1\n",
    "\n",
    "        if finding_the_closest([width_pichu[i],height_pichu[i]],number_points_to_check)==\"Pichu\":\n",
    "            TN+=1\n",
    "        else:\n",
    "            FP+=1  \n",
    "\n",
    "    if accuracy<100*(TP+TN)/(TP+FP+TN+FN):\n",
    "        accuracy=100*(TP+TN)/(TP+FP+TN+FN)\n",
    "        lowest_number_point_to_check=number_points_to_check\n",
    "    \n",
    "    accuracies.append(100*(TP+TN)/(TP+FP+TN+FN))\n",
    "    points_checked.append(number_points_to_check)\n",
    "    \n",
    "print(f\"The highest accuracy is {accuracy}% and it could be reached by testing the {lowest_number_point_to_check} closest points\")\n",
    "\n",
    "plt.figure()\n",
    "plt.plot(points_checked,accuracies)\n",
    "plt.xlabel(\"Number of closest points checked\")\n",
    "plt.ylabel(\"Accuracy\")\n",
    "\n",
    "plt.show()"
   ],
   "outputs": [
    {
     "output_type": "stream",
     "name": "stdout",
     "text": [
      "The highest accuracy is 100.0% and it could be reached by testing the 1 closest points\n"
     ]
    },
    {
     "output_type": "display_data",
     "data": {
      "image/png": "[encoded data removed]",
      "text/plain": [
       "<Figure size 432x288 with 1 Axes>"
      ]
     },
     "metadata": {
      "needs_background": "light"
     }
    }
   ],
   "metadata": {}
  }
 ],
 "metadata": {
  "orig_nbformat": 4,
  "language_info": {
   "name": "python",
   "version": "3.8.2",
   "mimetype": "text/x-python",
   "codemirror_mode": {
    "name": "ipython",
    "version": 3
   },
   "pygments_lexer": "ipython3",
   "nbconvert_exporter": "python",
   "file_extension": ".py"
  },
  "kernelspec": {
   "name": "python3",
   "display_name": "Python 3.8.2 64-bit ('python-programming-SAMI-FATMI-twlN9kEV': pipenv)"
  },
  "interpreter": {
   "hash": "e8c0f5da3a3a620c9e1b027d387145a2dbb6c76352a80070026223519564da83"
  }
 },
 "nbformat": 4,
 "nbformat_minor": 2
}